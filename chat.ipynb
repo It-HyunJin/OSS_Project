{
  "nbformat": 4,
  "nbformat_minor": 0,
  "metadata": {
    "colab": {
      "provenance": [],
      "authorship_tag": "ABX9TyNrZd7EWglvm+RCLnAdxdmh",
      "include_colab_link": true
    },
    "kernelspec": {
      "name": "python3",
      "display_name": "Python 3"
    },
    "language_info": {
      "name": "python"
    }
  },
  "cells": [
    {
      "cell_type": "markdown",
      "metadata": {
        "id": "view-in-github",
        "colab_type": "text"
      },
      "source": [
        "<a href=\"https://colab.research.google.com/github/It-HyunJin/OSS_Project/blob/main/chat.ipynb\" target=\"_parent\"><img src=\"https://colab.research.google.com/assets/colab-badge.svg\" alt=\"Open In Colab\"/></a>"
      ]
    },
    {
      "cell_type": "code",
      "source": [
        "%cd /content"
      ],
      "metadata": {
        "colab": {
          "base_uri": "https://localhost:8080/"
        },
        "id": "5nrDvuF4ApSq",
        "outputId": "a911048f-32af-40ba-e1cc-c99974f43f25"
      },
      "execution_count": null,
      "outputs": [
        {
          "output_type": "stream",
          "name": "stdout",
          "text": [
            "/content\n"
          ]
        }
      ]
    },
    {
      "cell_type": "code",
      "execution_count": null,
      "metadata": {
        "id": "1vY0FK1Cqef7"
      },
      "outputs": [],
      "source": [
        "import os"
      ]
    },
    {
      "cell_type": "code",
      "source": [
        "!pip install django"
      ],
      "metadata": {
        "colab": {
          "base_uri": "https://localhost:8080/"
        },
        "id": "h0B6_MYm4SeX",
        "outputId": "32b101be-949b-4fcc-9532-7b98fd300d5a"
      },
      "execution_count": null,
      "outputs": [
        {
          "output_type": "stream",
          "name": "stdout",
          "text": [
            "Requirement already satisfied: django in /usr/local/lib/python3.10/dist-packages (5.0.6)\n",
            "Requirement already satisfied: asgiref<4,>=3.7.0 in /usr/local/lib/python3.10/dist-packages (from django) (3.8.1)\n",
            "Requirement already satisfied: sqlparse>=0.3.1 in /usr/local/lib/python3.10/dist-packages (from django) (0.5.0)\n",
            "Requirement already satisfied: typing-extensions>=4 in /usr/local/lib/python3.10/dist-packages (from asgiref<4,>=3.7.0->django) (4.12.2)\n"
          ]
        }
      ]
    },
    {
      "cell_type": "code",
      "source": [
        "!pip install djangorestframework django-cors-headers"
      ],
      "metadata": {
        "colab": {
          "base_uri": "https://localhost:8080/"
        },
        "id": "y9cNyOFVD45-",
        "outputId": "dc95c832-4957-4c1f-edd4-5781b1454aef"
      },
      "execution_count": null,
      "outputs": [
        {
          "output_type": "stream",
          "name": "stdout",
          "text": [
            "Collecting djangorestframework\n",
            "  Downloading djangorestframework-3.15.1-py3-none-any.whl (1.1 MB)\n",
            "\u001b[2K     \u001b[90m━━━━━━━━━━━━━━━━━━━━━━━━━━━━━━━━━━━━━━━━\u001b[0m \u001b[32m1.1/1.1 MB\u001b[0m \u001b[31m11.4 MB/s\u001b[0m eta \u001b[36m0:00:00\u001b[0m\n",
            "\u001b[?25hCollecting django-cors-headers\n",
            "  Downloading django_cors_headers-4.3.1-py3-none-any.whl (12 kB)\n",
            "Requirement already satisfied: django>=3.0 in /usr/local/lib/python3.10/dist-packages (from djangorestframework) (5.0.6)\n",
            "Requirement already satisfied: asgiref>=3.6 in /usr/local/lib/python3.10/dist-packages (from django-cors-headers) (3.8.1)\n",
            "Requirement already satisfied: typing-extensions>=4 in /usr/local/lib/python3.10/dist-packages (from asgiref>=3.6->django-cors-headers) (4.12.2)\n",
            "Requirement already satisfied: sqlparse>=0.3.1 in /usr/local/lib/python3.10/dist-packages (from django>=3.0->djangorestframework) (0.5.0)\n",
            "Installing collected packages: djangorestframework, django-cors-headers\n",
            "Successfully installed django-cors-headers-4.3.1 djangorestframework-3.15.1\n"
          ]
        }
      ]
    },
    {
      "cell_type": "code",
      "source": [
        "!django-admin startproject chat"
      ],
      "metadata": {
        "id": "CbAF-2nO4QeZ"
      },
      "execution_count": null,
      "outputs": []
    },
    {
      "cell_type": "code",
      "source": [
        "%cd chat/"
      ],
      "metadata": {
        "colab": {
          "base_uri": "https://localhost:8080/"
        },
        "id": "QpDEcWmFvGfr",
        "outputId": "9ea9240a-cf38-4b51-819c-3d23bd79ebc2"
      },
      "execution_count": null,
      "outputs": [
        {
          "output_type": "stream",
          "name": "stdout",
          "text": [
            "/content/chat\n"
          ]
        }
      ]
    },
    {
      "cell_type": "code",
      "source": [
        "from google.colab.output import eval_js\n",
        "print(eval_js(\"google.colab.kernel.proxyPort(8000)\"))"
      ],
      "metadata": {
        "colab": {
          "base_uri": "https://localhost:8080/",
          "height": 35
        },
        "id": "w0rhz3sTv820",
        "outputId": "3e7b686f-a6e6-4f01-f97a-a1c8147d32c9"
      },
      "execution_count": null,
      "outputs": [
        {
          "output_type": "stream",
          "name": "stdout",
          "text": [
            "https://hve6ebnn90b-496ff2e9c6d22116-8000-colab.googleusercontent.com/\n"
          ]
        }
      ]
    },
    {
      "cell_type": "code",
      "source": [
        "!python manage.py runserver 8000"
      ],
      "metadata": {
        "colab": {
          "base_uri": "https://localhost:8080/"
        },
        "id": "MieTBuPgvyey",
        "outputId": "56ee1cc5-7600-4a16-b606-562cba6fc19d"
      },
      "execution_count": null,
      "outputs": [
        {
          "output_type": "stream",
          "name": "stdout",
          "text": [
            "Watching for file changes with StatReloader\n",
            "Performing system checks...\n",
            "\n",
            "System check identified no issues (0 silenced).\n",
            "\u001b[31m\n",
            "You have 18 unapplied migration(s). Your project may not work properly until you apply the migrations for app(s): admin, auth, contenttypes, sessions.\u001b[0m\n",
            "\u001b[31mRun 'python manage.py migrate' to apply them.\u001b[0m\n",
            "June 17, 2024 - 16:38:27\n",
            "Django version 5.0.6, using settings 'chat.settings'\n",
            "Starting development server at http://127.0.0.1:8000/\n",
            "Quit the server with CONTROL-C.\n",
            "\n",
            "Not Found: /\n",
            "[17/Jun/2024 16:38:30] \u001b[33m\"GET / HTTP/1.1\" 404 2172\u001b[0m\n",
            "Not Found: /\n",
            "[17/Jun/2024 16:39:15] \u001b[33m\"GET / HTTP/1.1\" 404 2172\u001b[0m\n"
          ]
        }
      ]
    },
    {
      "cell_type": "code",
      "source": [
        "!python manage.py startapp chat_bot"
      ],
      "metadata": {
        "id": "NkD4jrmcGCu0",
        "colab": {
          "base_uri": "https://localhost:8080/"
        },
        "outputId": "236cb589-73da-4bd5-d471-62f026576d90"
      },
      "execution_count": null,
      "outputs": [
        {
          "output_type": "stream",
          "name": "stdout",
          "text": [
            "Traceback (most recent call last):\n",
            "  File \"/content/chat/manage.py\", line 22, in <module>\n",
            "    main()\n",
            "  File \"/content/chat/manage.py\", line 18, in main\n",
            "    execute_from_command_line(sys.argv)\n",
            "  File \"/usr/local/lib/python3.10/dist-packages/django/core/management/__init__.py\", line 442, in execute_from_command_line\n",
            "    utility.execute()\n",
            "  File \"/usr/local/lib/python3.10/dist-packages/django/core/management/__init__.py\", line 416, in execute\n",
            "    django.setup()\n",
            "  File \"/usr/local/lib/python3.10/dist-packages/django/__init__.py\", line 24, in setup\n",
            "    apps.populate(settings.INSTALLED_APPS)\n",
            "  File \"/usr/local/lib/python3.10/dist-packages/django/apps/registry.py\", line 91, in populate\n",
            "    app_config = AppConfig.create(entry)\n",
            "  File \"/usr/local/lib/python3.10/dist-packages/django/apps/config.py\", line 193, in create\n",
            "    import_module(entry)\n",
            "  File \"/usr/lib/python3.10/importlib/__init__.py\", line 126, in import_module\n",
            "    return _bootstrap._gcd_import(name[level:], package, level)\n",
            "  File \"<frozen importlib._bootstrap>\", line 1050, in _gcd_import\n",
            "  File \"<frozen importlib._bootstrap>\", line 1027, in _find_and_load\n",
            "  File \"<frozen importlib._bootstrap>\", line 1004, in _find_and_load_unlocked\n",
            "ModuleNotFoundError: No module named 'rest_framework'\n"
          ]
        }
      ]
    },
    {
      "cell_type": "code",
      "source": [
        "%cd chat_bot"
      ],
      "metadata": {
        "colab": {
          "base_uri": "https://localhost:8080/"
        },
        "id": "liHh25RpL6vj",
        "outputId": "674f0220-c42c-44cb-b260-9f82ace55f0f"
      },
      "execution_count": null,
      "outputs": [
        {
          "output_type": "stream",
          "name": "stdout",
          "text": [
            "/content/chat/chat_bot\n"
          ]
        }
      ]
    },
    {
      "cell_type": "code",
      "source": [
        "%cd .."
      ],
      "metadata": {
        "colab": {
          "base_uri": "https://localhost:8080/"
        },
        "id": "c3BYDCekLIqf",
        "outputId": "01ff801f-8606-4f70-ef5c-2d780cce4f60"
      },
      "execution_count": null,
      "outputs": [
        {
          "output_type": "stream",
          "name": "stdout",
          "text": [
            "/content/chat\n"
          ]
        }
      ]
    },
    {
      "cell_type": "code",
      "source": [
        "!mkdir templates"
      ],
      "metadata": {
        "id": "lbJFbS1OL0NR"
      },
      "execution_count": null,
      "outputs": []
    }
  ]
}