{
  "nbformat": 4,
  "nbformat_minor": 0,
  "metadata": {
    "colab": {
      "provenance": [],
      "authorship_tag": "ABX9TyP/fm6D6yq0Ic8AnyGw9jpi"
    },
    "kernelspec": {
      "name": "python3",
      "display_name": "Python 3"
    },
    "language_info": {
      "name": "python"
    }
  },
  "cells": [
    {
      "cell_type": "code",
      "source": [
        "%cd /content"
      ],
      "metadata": {
        "colab": {
          "base_uri": "https://localhost:8080/"
        },
        "id": "5nrDvuF4ApSq",
        "outputId": "8c31dafc-97f1-4b9d-b1b4-a3309f233792"
      },
      "execution_count": 1,
      "outputs": [
        {
          "output_type": "stream",
          "name": "stdout",
          "text": [
            "/content\n"
          ]
        }
      ]
    },
    {
      "cell_type": "code",
      "execution_count": 2,
      "metadata": {
        "id": "1vY0FK1Cqef7"
      },
      "outputs": [],
      "source": [
        "import os"
      ]
    },
    {
      "cell_type": "code",
      "source": [
        "!pip install django"
      ],
      "metadata": {
        "colab": {
          "base_uri": "https://localhost:8080/"
        },
        "id": "h0B6_MYm4SeX",
        "outputId": "7234b826-59f9-479b-d7bb-22a2563412a4"
      },
      "execution_count": 3,
      "outputs": [
        {
          "output_type": "stream",
          "name": "stdout",
          "text": [
            "Collecting django\n",
            "  Downloading Django-5.0.6-py3-none-any.whl (8.2 MB)\n",
            "\u001b[2K     \u001b[90m━━━━━━━━━━━━━━━━━━━━━━━━━━━━━━━━━━━━━━━━\u001b[0m \u001b[32m8.2/8.2 MB\u001b[0m \u001b[31m55.7 MB/s\u001b[0m eta \u001b[36m0:00:00\u001b[0m\n",
            "\u001b[?25hCollecting asgiref<4,>=3.7.0 (from django)\n",
            "  Downloading asgiref-3.8.1-py3-none-any.whl (23 kB)\n",
            "Requirement already satisfied: sqlparse>=0.3.1 in /usr/local/lib/python3.10/dist-packages (from django) (0.5.0)\n",
            "Requirement already satisfied: typing-extensions>=4 in /usr/local/lib/python3.10/dist-packages (from asgiref<4,>=3.7.0->django) (4.12.2)\n",
            "Installing collected packages: asgiref, django\n",
            "Successfully installed asgiref-3.8.1 django-5.0.6\n"
          ]
        }
      ]
    },
    {
      "cell_type": "code",
      "source": [
        "!pip install djangorestframework django-cors-headers"
      ],
      "metadata": {
        "colab": {
          "base_uri": "https://localhost:8080/"
        },
        "id": "y9cNyOFVD45-",
        "outputId": "dc95c832-4957-4c1f-edd4-5781b1454aef"
      },
      "execution_count": null,
      "outputs": [
        {
          "output_type": "stream",
          "name": "stdout",
          "text": [
            "Collecting djangorestframework\n",
            "  Downloading djangorestframework-3.15.1-py3-none-any.whl (1.1 MB)\n",
            "\u001b[2K     \u001b[90m━━━━━━━━━━━━━━━━━━━━━━━━━━━━━━━━━━━━━━━━\u001b[0m \u001b[32m1.1/1.1 MB\u001b[0m \u001b[31m11.4 MB/s\u001b[0m eta \u001b[36m0:00:00\u001b[0m\n",
            "\u001b[?25hCollecting django-cors-headers\n",
            "  Downloading django_cors_headers-4.3.1-py3-none-any.whl (12 kB)\n",
            "Requirement already satisfied: django>=3.0 in /usr/local/lib/python3.10/dist-packages (from djangorestframework) (5.0.6)\n",
            "Requirement already satisfied: asgiref>=3.6 in /usr/local/lib/python3.10/dist-packages (from django-cors-headers) (3.8.1)\n",
            "Requirement already satisfied: typing-extensions>=4 in /usr/local/lib/python3.10/dist-packages (from asgiref>=3.6->django-cors-headers) (4.12.2)\n",
            "Requirement already satisfied: sqlparse>=0.3.1 in /usr/local/lib/python3.10/dist-packages (from django>=3.0->djangorestframework) (0.5.0)\n",
            "Installing collected packages: djangorestframework, django-cors-headers\n",
            "Successfully installed django-cors-headers-4.3.1 djangorestframework-3.15.1\n"
          ]
        }
      ]
    },
    {
      "cell_type": "code",
      "source": [
        "!django-admin startproject chat"
      ],
      "metadata": {
        "id": "CbAF-2nO4QeZ",
        "colab": {
          "base_uri": "https://localhost:8080/"
        },
        "outputId": "b3159530-b191-4139-8c56-238ec91d2445"
      },
      "execution_count": null,
      "outputs": [
        {
          "output_type": "stream",
          "name": "stdout",
          "text": [
            "\u001b[31;1mCommandError: '/content/chat' already exists\n",
            "\u001b[0m"
          ]
        }
      ]
    },
    {
      "cell_type": "code",
      "source": [
        "%cd chat/"
      ],
      "metadata": {
        "colab": {
          "base_uri": "https://localhost:8080/"
        },
        "id": "QpDEcWmFvGfr",
        "outputId": "61194dbd-7e9c-401f-9254-da49442e9de6"
      },
      "execution_count": 15,
      "outputs": [
        {
          "output_type": "stream",
          "name": "stdout",
          "text": [
            "/content/chat\n"
          ]
        }
      ]
    },
    {
      "cell_type": "code",
      "source": [
        "from google.colab.output import eval_js\n",
        "print(eval_js(\"google.colab.kernel.proxyPort(8000)\"))"
      ],
      "metadata": {
        "colab": {
          "base_uri": "https://localhost:8080/",
          "height": 35
        },
        "id": "w0rhz3sTv820",
        "outputId": "962925cd-3f3e-4c61-c9fe-9cafa9ebf9ad"
      },
      "execution_count": 5,
      "outputs": [
        {
          "output_type": "stream",
          "name": "stdout",
          "text": [
            "https://wnic6p2xhu7-496ff2e9c6d22116-8000-colab.googleusercontent.com/\n"
          ]
        }
      ]
    },
    {
      "cell_type": "code",
      "source": [
        "!python manage.py runserver 8000"
      ],
      "metadata": {
        "colab": {
          "base_uri": "https://localhost:8080/"
        },
        "id": "MieTBuPgvyey",
        "outputId": "051cd432-c771-4c03-97be-31275f4a97a4"
      },
      "execution_count": 18,
      "outputs": [
        {
          "output_type": "stream",
          "name": "stdout",
          "text": [
            "Watching for file changes with StatReloader\n",
            "Performing system checks...\n",
            "\n",
            "2024-06-19 14:50:06.134841: E external/local_xla/xla/stream_executor/cuda/cuda_dnn.cc:9261] Unable to register cuDNN factory: Attempting to register factory for plugin cuDNN when one has already been registered\n",
            "2024-06-19 14:50:06.134906: E external/local_xla/xla/stream_executor/cuda/cuda_fft.cc:607] Unable to register cuFFT factory: Attempting to register factory for plugin cuFFT when one has already been registered\n",
            "2024-06-19 14:50:06.137057: E external/local_xla/xla/stream_executor/cuda/cuda_blas.cc:1515] Unable to register cuBLAS factory: Attempting to register factory for plugin cuBLAS when one has already been registered\n",
            "2024-06-19 14:50:06.149547: I tensorflow/core/platform/cpu_feature_guard.cc:182] This TensorFlow binary is optimized to use available CPU instructions in performance-critical operations.\n",
            "To enable the following instructions: AVX2 FMA, in other operations, rebuild TensorFlow with the appropriate compiler flags.\n",
            "2024-06-19 14:50:07.879349: W tensorflow/compiler/tf2tensorrt/utils/py_utils.cc:38] TF-TRT Warning: Could not find TensorRT\n",
            "/usr/local/lib/python3.10/dist-packages/huggingface_hub/file_download.py:1132: FutureWarning: `resume_download` is deprecated and will be removed in version 1.0.0. Downloads always resume when possible. If you want to force a new download, use `force_download=True`.\n",
            "  warnings.warn(\n",
            "System check identified no issues (0 silenced).\n",
            "June 19, 2024 - 14:52:19\n",
            "Django version 5.0.6, using settings 'chat.settings'\n",
            "Starting development server at http://127.0.0.1:8000/\n",
            "Quit the server with CONTROL-C.\n",
            "\n",
            "[19/Jun/2024 14:52:22] \u001b[m\"GET / HTTP/1.1\" 200 6013\u001b[0m\n",
            "Not Found: /favicon.ico\n",
            "[19/Jun/2024 14:52:22] \u001b[33m\"GET /favicon.ico HTTP/1.1\" 404 2462\u001b[0m\n",
            "[19/Jun/2024 14:52:32] \u001b[m\"POST /chat-response/ HTTP/1.1\" 200 357\u001b[0m\n",
            "[19/Jun/2024 14:52:50] \u001b[m\"POST /chat-response/ HTTP/1.1\" 200 349\u001b[0m\n",
            "[19/Jun/2024 14:53:10] \u001b[m\"POST /chat-response/ HTTP/1.1\" 200 452\u001b[0m\n",
            "[19/Jun/2024 14:54:25] \u001b[m\"POST /chat-response/ HTTP/1.1\" 200 307\u001b[0m\n",
            "[19/Jun/2024 14:59:20] \u001b[m\"POST /chat-response/ HTTP/1.1\" 200 209\u001b[0m\n",
            "[19/Jun/2024 14:59:33] \u001b[m\"POST /chat-response/ HTTP/1.1\" 200 277\u001b[0m\n",
            "[19/Jun/2024 14:59:41] \u001b[m\"POST /chat-response/ HTTP/1.1\" 200 463\u001b[0m\n",
            "[19/Jun/2024 14:59:49] \u001b[m\"POST /chat-response/ HTTP/1.1\" 200 491\u001b[0m\n"
          ]
        }
      ]
    },
    {
      "cell_type": "code",
      "source": [
        "!python manage.py startapp chat_bot"
      ],
      "metadata": {
        "id": "NkD4jrmcGCu0"
      },
      "execution_count": null,
      "outputs": []
    },
    {
      "cell_type": "code",
      "source": [
        "%cd chat_bot"
      ],
      "metadata": {
        "colab": {
          "base_uri": "https://localhost:8080/"
        },
        "id": "liHh25RpL6vj",
        "outputId": "674f0220-c42c-44cb-b260-9f82ace55f0f"
      },
      "execution_count": null,
      "outputs": [
        {
          "output_type": "stream",
          "name": "stdout",
          "text": [
            "/content/chat/chat_bot\n"
          ]
        }
      ]
    },
    {
      "cell_type": "code",
      "source": [
        "%cd .."
      ],
      "metadata": {
        "colab": {
          "base_uri": "https://localhost:8080/"
        },
        "id": "c3BYDCekLIqf",
        "outputId": "63a2026d-3210-4102-8070-3cb261ece7b5"
      },
      "execution_count": 14,
      "outputs": [
        {
          "output_type": "stream",
          "name": "stdout",
          "text": [
            "/content\n"
          ]
        }
      ]
    },
    {
      "cell_type": "code",
      "source": [
        "!mkdir templates"
      ],
      "metadata": {
        "id": "lbJFbS1OL0NR"
      },
      "execution_count": null,
      "outputs": []
    },
    {
      "cell_type": "code",
      "source": [
        "!pip install -q sentence-transformers"
      ],
      "metadata": {
        "colab": {
          "base_uri": "https://localhost:8080/"
        },
        "id": "PGjH8x5y4EUd",
        "outputId": "a8431c64-7166-44d3-b32d-693f4df30231"
      },
      "execution_count": 7,
      "outputs": [
        {
          "output_type": "stream",
          "name": "stdout",
          "text": [
            "\u001b[2K     \u001b[90m━━━━━━━━━━━━━━━━━━━━━━━━━━━━━━━━━━━━━━━━\u001b[0m \u001b[32m227.1/227.1 kB\u001b[0m \u001b[31m3.9 MB/s\u001b[0m eta \u001b[36m0:00:00\u001b[0m\n",
            "\u001b[2K     \u001b[90m━━━━━━━━━━━━━━━━━━━━━━━━━━━━━━━━━━━━━━━━\u001b[0m \u001b[32m21.3/21.3 MB\u001b[0m \u001b[31m43.1 MB/s\u001b[0m eta \u001b[36m0:00:00\u001b[0m\n",
            "\u001b[?25h"
          ]
        }
      ]
    },
    {
      "cell_type": "markdown",
      "source": [
        "##migration 생성 = session을 받기 위해"
      ],
      "metadata": {
        "id": "bX6IBlwVFlSV"
      }
    },
    {
      "cell_type": "code",
      "source": [
        "!python manage.py makemigrations\n",
        "!python manage.py migrate"
      ],
      "metadata": {
        "colab": {
          "base_uri": "https://localhost:8080/"
        },
        "id": "EXsT_ZLXA5dC",
        "outputId": "98344102-5fd7-4dbd-ddb3-f10fe9c414f7"
      },
      "execution_count": 16,
      "outputs": [
        {
          "output_type": "stream",
          "name": "stdout",
          "text": [
            "2024-06-19 14:41:57.263712: E external/local_xla/xla/stream_executor/cuda/cuda_dnn.cc:9261] Unable to register cuDNN factory: Attempting to register factory for plugin cuDNN when one has already been registered\n",
            "2024-06-19 14:41:57.263755: E external/local_xla/xla/stream_executor/cuda/cuda_fft.cc:607] Unable to register cuFFT factory: Attempting to register factory for plugin cuFFT when one has already been registered\n",
            "2024-06-19 14:41:57.265444: E external/local_xla/xla/stream_executor/cuda/cuda_blas.cc:1515] Unable to register cuBLAS factory: Attempting to register factory for plugin cuBLAS when one has already been registered\n",
            "2024-06-19 14:41:57.274569: I tensorflow/core/platform/cpu_feature_guard.cc:182] This TensorFlow binary is optimized to use available CPU instructions in performance-critical operations.\n",
            "To enable the following instructions: AVX2 FMA, in other operations, rebuild TensorFlow with the appropriate compiler flags.\n",
            "2024-06-19 14:41:58.805217: W tensorflow/compiler/tf2tensorrt/utils/py_utils.cc:38] TF-TRT Warning: Could not find TensorRT\n",
            "/usr/local/lib/python3.10/dist-packages/huggingface_hub/file_download.py:1132: FutureWarning: `resume_download` is deprecated and will be removed in version 1.0.0. Downloads always resume when possible. If you want to force a new download, use `force_download=True`.\n",
            "  warnings.warn(\n",
            "No changes detected\n",
            "2024-06-19 14:44:22.138934: E external/local_xla/xla/stream_executor/cuda/cuda_dnn.cc:9261] Unable to register cuDNN factory: Attempting to register factory for plugin cuDNN when one has already been registered\n",
            "2024-06-19 14:44:22.138977: E external/local_xla/xla/stream_executor/cuda/cuda_fft.cc:607] Unable to register cuFFT factory: Attempting to register factory for plugin cuFFT when one has already been registered\n",
            "2024-06-19 14:44:22.140580: E external/local_xla/xla/stream_executor/cuda/cuda_blas.cc:1515] Unable to register cuBLAS factory: Attempting to register factory for plugin cuBLAS when one has already been registered\n",
            "2024-06-19 14:44:22.148914: I tensorflow/core/platform/cpu_feature_guard.cc:182] This TensorFlow binary is optimized to use available CPU instructions in performance-critical operations.\n",
            "To enable the following instructions: AVX2 FMA, in other operations, rebuild TensorFlow with the appropriate compiler flags.\n",
            "2024-06-19 14:44:23.602750: W tensorflow/compiler/tf2tensorrt/utils/py_utils.cc:38] TF-TRT Warning: Could not find TensorRT\n",
            "/usr/local/lib/python3.10/dist-packages/huggingface_hub/file_download.py:1132: FutureWarning: `resume_download` is deprecated and will be removed in version 1.0.0. Downloads always resume when possible. If you want to force a new download, use `force_download=True`.\n",
            "  warnings.warn(\n",
            "\u001b[36;1mOperations to perform:\u001b[0m\n",
            "\u001b[1m  Apply all migrations: \u001b[0madmin, auth, contenttypes, sessions\n",
            "\u001b[36;1mRunning migrations:\u001b[0m\n",
            "  Applying contenttypes.0001_initial...\u001b[32;1m OK\u001b[0m\n",
            "  Applying auth.0001_initial...\u001b[32;1m OK\u001b[0m\n",
            "  Applying admin.0001_initial...\u001b[32;1m OK\u001b[0m\n",
            "  Applying admin.0002_logentry_remove_auto_add...\u001b[32;1m OK\u001b[0m\n",
            "  Applying admin.0003_logentry_add_action_flag_choices...\u001b[32;1m OK\u001b[0m\n",
            "  Applying contenttypes.0002_remove_content_type_name...\u001b[32;1m OK\u001b[0m\n",
            "  Applying auth.0002_alter_permission_name_max_length...\u001b[32;1m OK\u001b[0m\n",
            "  Applying auth.0003_alter_user_email_max_length...\u001b[32;1m OK\u001b[0m\n",
            "  Applying auth.0004_alter_user_username_opts...\u001b[32;1m OK\u001b[0m\n",
            "  Applying auth.0005_alter_user_last_login_null...\u001b[32;1m OK\u001b[0m\n",
            "  Applying auth.0006_require_contenttypes_0002...\u001b[32;1m OK\u001b[0m\n",
            "  Applying auth.0007_alter_validators_add_error_messages...\u001b[32;1m OK\u001b[0m\n",
            "  Applying auth.0008_alter_user_username_max_length...\u001b[32;1m OK\u001b[0m\n",
            "  Applying auth.0009_alter_user_last_name_max_length...\u001b[32;1m OK\u001b[0m\n",
            "  Applying auth.0010_alter_group_name_max_length...\u001b[32;1m OK\u001b[0m\n",
            "  Applying auth.0011_update_proxy_permissions...\u001b[32;1m OK\u001b[0m\n",
            "  Applying auth.0012_alter_user_first_name_max_length...\u001b[32;1m OK\u001b[0m\n",
            "  Applying sessions.0001_initial...\u001b[32;1m OK\u001b[0m\n"
          ]
        }
      ]
    },
    {
      "cell_type": "code",
      "source": [
        "!python manage.py showmigrations"
      ],
      "metadata": {
        "colab": {
          "base_uri": "https://localhost:8080/"
        },
        "id": "0cRPpgd7BGDm",
        "outputId": "165f7209-af0f-410b-bcde-de2176bf2185"
      },
      "execution_count": 17,
      "outputs": [
        {
          "output_type": "stream",
          "name": "stdout",
          "text": [
            "2024-06-19 14:46:48.680923: E external/local_xla/xla/stream_executor/cuda/cuda_dnn.cc:9261] Unable to register cuDNN factory: Attempting to register factory for plugin cuDNN when one has already been registered\n",
            "2024-06-19 14:46:48.680981: E external/local_xla/xla/stream_executor/cuda/cuda_fft.cc:607] Unable to register cuFFT factory: Attempting to register factory for plugin cuFFT when one has already been registered\n",
            "2024-06-19 14:46:48.683397: E external/local_xla/xla/stream_executor/cuda/cuda_blas.cc:1515] Unable to register cuBLAS factory: Attempting to register factory for plugin cuBLAS when one has already been registered\n",
            "2024-06-19 14:46:48.696300: I tensorflow/core/platform/cpu_feature_guard.cc:182] This TensorFlow binary is optimized to use available CPU instructions in performance-critical operations.\n",
            "To enable the following instructions: AVX2 FMA, in other operations, rebuild TensorFlow with the appropriate compiler flags.\n",
            "2024-06-19 14:46:50.763849: W tensorflow/compiler/tf2tensorrt/utils/py_utils.cc:38] TF-TRT Warning: Could not find TensorRT\n",
            "/usr/local/lib/python3.10/dist-packages/huggingface_hub/file_download.py:1132: FutureWarning: `resume_download` is deprecated and will be removed in version 1.0.0. Downloads always resume when possible. If you want to force a new download, use `force_download=True`.\n",
            "  warnings.warn(\n",
            "\u001b[1madmin\n",
            "\u001b[0m [X] 0001_initial\n",
            " [X] 0002_logentry_remove_auto_add\n",
            " [X] 0003_logentry_add_action_flag_choices\n",
            "\u001b[1mauth\n",
            "\u001b[0m [X] 0001_initial\n",
            " [X] 0002_alter_permission_name_max_length\n",
            " [X] 0003_alter_user_email_max_length\n",
            " [X] 0004_alter_user_username_opts\n",
            " [X] 0005_alter_user_last_login_null\n",
            " [X] 0006_require_contenttypes_0002\n",
            " [X] 0007_alter_validators_add_error_messages\n",
            " [X] 0008_alter_user_username_max_length\n",
            " [X] 0009_alter_user_last_name_max_length\n",
            " [X] 0010_alter_group_name_max_length\n",
            " [X] 0011_update_proxy_permissions\n",
            " [X] 0012_alter_user_first_name_max_length\n",
            "\u001b[1mcontenttypes\n",
            "\u001b[0m [X] 0001_initial\n",
            " [X] 0002_remove_content_type_name\n",
            "\u001b[1msessions\n",
            "\u001b[0m [X] 0001_initial\n"
          ]
        }
      ]
    }
  ]
}