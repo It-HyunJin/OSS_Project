{
  "nbformat": 4,
  "nbformat_minor": 0,
  "metadata": {
    "colab": {
      "provenance": [],
      "authorship_tag": "ABX9TyMSGv2+9h7g91V6AI6O9Yqs",
      "include_colab_link": true
    },
    "kernelspec": {
      "name": "python3",
      "display_name": "Python 3"
    },
    "language_info": {
      "name": "python"
    }
  },
  "cells": [
    {
      "cell_type": "markdown",
      "metadata": {
        "id": "view-in-github",
        "colab_type": "text"
      },
      "source": [
        "<a href=\"https://colab.research.google.com/github/It-HyunJin/OSS_Project/blob/main/chat.ipynb\" target=\"_parent\"><img src=\"https://colab.research.google.com/assets/colab-badge.svg\" alt=\"Open In Colab\"/></a>"
      ]
    },
    {
      "cell_type": "code",
      "source": [
        "%cd /content"
      ],
      "metadata": {
        "colab": {
          "base_uri": "https://localhost:8080/"
        },
        "id": "5nrDvuF4ApSq",
        "outputId": "8c31dafc-97f1-4b9d-b1b4-a3309f233792"
      },
      "execution_count": 1,
      "outputs": [
        {
          "output_type": "stream",
          "name": "stdout",
          "text": [
            "/content\n"
          ]
        }
      ]
    },
    {
      "cell_type": "code",
      "execution_count": 2,
      "metadata": {
        "id": "1vY0FK1Cqef7"
      },
      "outputs": [],
      "source": [
        "import os"
      ]
    },
    {
      "cell_type": "code",
      "source": [
        "!pip install django"
      ],
      "metadata": {
        "colab": {
          "base_uri": "https://localhost:8080/"
        },
        "id": "h0B6_MYm4SeX",
        "outputId": "7234b826-59f9-479b-d7bb-22a2563412a4"
      },
      "execution_count": 3,
      "outputs": [
        {
          "output_type": "stream",
          "name": "stdout",
          "text": [
            "Collecting django\n",
            "  Downloading Django-5.0.6-py3-none-any.whl (8.2 MB)\n",
            "\u001b[2K     \u001b[90m━━━━━━━━━━━━━━━━━━━━━━━━━━━━━━━━━━━━━━━━\u001b[0m \u001b[32m8.2/8.2 MB\u001b[0m \u001b[31m55.7 MB/s\u001b[0m eta \u001b[36m0:00:00\u001b[0m\n",
            "\u001b[?25hCollecting asgiref<4,>=3.7.0 (from django)\n",
            "  Downloading asgiref-3.8.1-py3-none-any.whl (23 kB)\n",
            "Requirement already satisfied: sqlparse>=0.3.1 in /usr/local/lib/python3.10/dist-packages (from django) (0.5.0)\n",
            "Requirement already satisfied: typing-extensions>=4 in /usr/local/lib/python3.10/dist-packages (from asgiref<4,>=3.7.0->django) (4.12.2)\n",
            "Installing collected packages: asgiref, django\n",
            "Successfully installed asgiref-3.8.1 django-5.0.6\n"
          ]
        }
      ]
    },
    {
      "cell_type": "code",
      "source": [
        "!pip install djangorestframework django-cors-headers"
      ],
      "metadata": {
        "colab": {
          "base_uri": "https://localhost:8080/"
        },
        "id": "y9cNyOFVD45-",
        "outputId": "dc95c832-4957-4c1f-edd4-5781b1454aef"
      },
      "execution_count": null,
      "outputs": [
        {
          "output_type": "stream",
          "name": "stdout",
          "text": [
            "Collecting djangorestframework\n",
            "  Downloading djangorestframework-3.15.1-py3-none-any.whl (1.1 MB)\n",
            "\u001b[2K     \u001b[90m━━━━━━━━━━━━━━━━━━━━━━━━━━━━━━━━━━━━━━━━\u001b[0m \u001b[32m1.1/1.1 MB\u001b[0m \u001b[31m11.4 MB/s\u001b[0m eta \u001b[36m0:00:00\u001b[0m\n",
            "\u001b[?25hCollecting django-cors-headers\n",
            "  Downloading django_cors_headers-4.3.1-py3-none-any.whl (12 kB)\n",
            "Requirement already satisfied: django>=3.0 in /usr/local/lib/python3.10/dist-packages (from djangorestframework) (5.0.6)\n",
            "Requirement already satisfied: asgiref>=3.6 in /usr/local/lib/python3.10/dist-packages (from django-cors-headers) (3.8.1)\n",
            "Requirement already satisfied: typing-extensions>=4 in /usr/local/lib/python3.10/dist-packages (from asgiref>=3.6->django-cors-headers) (4.12.2)\n",
            "Requirement already satisfied: sqlparse>=0.3.1 in /usr/local/lib/python3.10/dist-packages (from django>=3.0->djangorestframework) (0.5.0)\n",
            "Installing collected packages: djangorestframework, django-cors-headers\n",
            "Successfully installed django-cors-headers-4.3.1 djangorestframework-3.15.1\n"
          ]
        }
      ]
    },
    {
      "cell_type": "code",
      "source": [
        "!django-admin startproject chat"
      ],
      "metadata": {
        "id": "CbAF-2nO4QeZ",
        "colab": {
          "base_uri": "https://localhost:8080/"
        },
        "outputId": "b3159530-b191-4139-8c56-238ec91d2445"
      },
      "execution_count": null,
      "outputs": [
        {
          "output_type": "stream",
          "name": "stdout",
          "text": [
            "\u001b[31;1mCommandError: '/content/chat' already exists\n",
            "\u001b[0m"
          ]
        }
      ]
    },
    {
      "cell_type": "code",
      "source": [
        "%cd chat/"
      ],
      "metadata": {
        "colab": {
          "base_uri": "https://localhost:8080/"
        },
        "id": "QpDEcWmFvGfr",
        "outputId": "61194dbd-7e9c-401f-9254-da49442e9de6"
      },
      "execution_count": 15,
      "outputs": [
        {
          "output_type": "stream",
          "name": "stdout",
          "text": [
            "/content/chat\n"
          ]
        }
      ]
    },
    {
      "cell_type": "code",
      "source": [
        "from google.colab.output import eval_js\n",
        "print(eval_js(\"google.colab.kernel.proxyPort(8000)\"))"
      ],
      "metadata": {
        "colab": {
          "base_uri": "https://localhost:8080/",
          "height": 35
        },
        "id": "w0rhz3sTv820",
        "outputId": "962925cd-3f3e-4c61-c9fe-9cafa9ebf9ad"
      },
      "execution_count": 5,
      "outputs": [
        {
          "output_type": "stream",
          "name": "stdout",
          "text": [
            "https://wnic6p2xhu7-496ff2e9c6d22116-8000-colab.googleusercontent.com/\n"
          ]
        }
      ]
    },
    {
      "cell_type": "code",
      "source": [
        "!python manage.py runserver 8000"
      ],
      "metadata": {
        "colab": {
          "base_uri": "https://localhost:8080/"
        },
        "id": "MieTBuPgvyey",
        "outputId": "057ec84b-c773-4b28-ed63-7e778981af83"
      },
      "execution_count": 23,
      "outputs": [
        {
          "output_type": "stream",
          "name": "stdout",
          "text": [
            "Watching for file changes with StatReloader\n",
            "Performing system checks...\n",
            "\n",
            "2024-06-19 17:05:19.575292: E external/local_xla/xla/stream_executor/cuda/cuda_dnn.cc:9261] Unable to register cuDNN factory: Attempting to register factory for plugin cuDNN when one has already been registered\n",
            "2024-06-19 17:05:19.575336: E external/local_xla/xla/stream_executor/cuda/cuda_fft.cc:607] Unable to register cuFFT factory: Attempting to register factory for plugin cuFFT when one has already been registered\n",
            "2024-06-19 17:05:19.577003: E external/local_xla/xla/stream_executor/cuda/cuda_blas.cc:1515] Unable to register cuBLAS factory: Attempting to register factory for plugin cuBLAS when one has already been registered\n",
            "2024-06-19 17:05:19.586565: I tensorflow/core/platform/cpu_feature_guard.cc:182] This TensorFlow binary is optimized to use available CPU instructions in performance-critical operations.\n",
            "To enable the following instructions: AVX2 FMA, in other operations, rebuild TensorFlow with the appropriate compiler flags.\n",
            "2024-06-19 17:05:21.148706: W tensorflow/compiler/tf2tensorrt/utils/py_utils.cc:38] TF-TRT Warning: Could not find TensorRT\n",
            "/usr/local/lib/python3.10/dist-packages/huggingface_hub/file_download.py:1132: FutureWarning: `resume_download` is deprecated and will be removed in version 1.0.0. Downloads always resume when possible. If you want to force a new download, use `force_download=True`.\n",
            "  warnings.warn(\n",
            "System check identified no issues (0 silenced).\n",
            "June 19, 2024 - 17:07:41\n",
            "Django version 5.0.6, using settings 'chat.settings'\n",
            "Starting development server at http://127.0.0.1:8000/\n",
            "Quit the server with CONTROL-C.\n",
            "\n",
            "[19/Jun/2024 17:20:38] \u001b[m\"GET / HTTP/1.1\" 200 6016\u001b[0m\n",
            "Not Found: /favicon.ico\n",
            "[19/Jun/2024 17:20:39] \u001b[33m\"GET /favicon.ico HTTP/1.1\" 404 2462\u001b[0m\n",
            "[19/Jun/2024 17:21:30] \u001b[m\"GET / HTTP/1.1\" 200 6016\u001b[0m\n",
            "Not Found: /favicon.ico\n",
            "[19/Jun/2024 17:21:31] \u001b[33m\"GET /favicon.ico HTTP/1.1\" 404 2462\u001b[0m\n",
            "[19/Jun/2024 17:21:31] \u001b[m\"GET / HTTP/1.1\" 200 6017\u001b[0m\n",
            "Not Found: /favicon.ico\n",
            "[19/Jun/2024 17:21:32] \u001b[33m\"GET /favicon.ico HTTP/1.1\" 404 2462\u001b[0m\n",
            "[19/Jun/2024 17:21:40] \u001b[m\"GET / HTTP/1.1\" 200 6016\u001b[0m\n",
            "Not Found: /favicon.ico\n",
            "[19/Jun/2024 17:21:40] \u001b[33m\"GET /favicon.ico HTTP/1.1\" 404 2462\u001b[0m\n",
            "[19/Jun/2024 17:21:55] \u001b[m\"GET / HTTP/1.1\" 200 6015\u001b[0m\n",
            "Not Found: /favicon.ico\n",
            "[19/Jun/2024 17:21:56] \u001b[33m\"GET /favicon.ico HTTP/1.1\" 404 2462\u001b[0m\n",
            "[19/Jun/2024 17:22:29] \u001b[m\"GET / HTTP/1.1\" 200 6015\u001b[0m\n",
            "Not Found: /favicon.ico\n",
            "[19/Jun/2024 17:22:29] \u001b[33m\"GET /favicon.ico HTTP/1.1\" 404 2462\u001b[0m\n",
            "[19/Jun/2024 17:24:17] \u001b[m\"GET / HTTP/1.1\" 200 5936\u001b[0m\n",
            "Not Found: /favicon.ico\n",
            "[19/Jun/2024 17:24:18] \u001b[33m\"GET /favicon.ico HTTP/1.1\" 404 2462\u001b[0m\n",
            "[19/Jun/2024 17:26:23] \u001b[m\"GET / HTTP/1.1\" 200 5936\u001b[0m\n",
            "Not Found: /favicon.ico\n",
            "[19/Jun/2024 17:26:24] \u001b[33m\"GET /favicon.ico HTTP/1.1\" 404 2462\u001b[0m\n",
            "[19/Jun/2024 17:26:32] \u001b[m\"POST /chat-response/ HTTP/1.1\" 200 544\u001b[0m\n",
            "[19/Jun/2024 17:26:35] \u001b[m\"POST /chat-response/ HTTP/1.1\" 200 357\u001b[0m\n",
            "[19/Jun/2024 17:26:40] \u001b[m\"POST /chat-response/ HTTP/1.1\" 200 366\u001b[0m\n",
            "[19/Jun/2024 17:26:55] \u001b[m\"POST /chat-response/ HTTP/1.1\" 200 482\u001b[0m\n",
            "[19/Jun/2024 17:27:27] \u001b[m\"GET / HTTP/1.1\" 200 5936\u001b[0m\n",
            "Not Found: /favicon.ico\n",
            "[19/Jun/2024 17:27:28] \u001b[33m\"GET /favicon.ico HTTP/1.1\" 404 2462\u001b[0m\n",
            "[19/Jun/2024 17:28:31] \u001b[m\"GET / HTTP/1.1\" 200 5929\u001b[0m\n",
            "Not Found: /favicon.ico\n",
            "[19/Jun/2024 17:28:31] \u001b[33m\"GET /favicon.ico HTTP/1.1\" 404 2462\u001b[0m\n",
            "[19/Jun/2024 17:28:33] \u001b[m\"POST /chat-response/ HTTP/1.1\" 200 223\u001b[0m\n",
            "[19/Jun/2024 17:28:38] \u001b[m\"POST /chat-response/ HTTP/1.1\" 200 357\u001b[0m\n",
            "[19/Jun/2024 17:28:45] \u001b[m\"POST /chat-response/ HTTP/1.1\" 200 278\u001b[0m\n",
            "[19/Jun/2024 17:28:49] \u001b[m\"POST /chat-response/ HTTP/1.1\" 200 381\u001b[0m\n",
            "[19/Jun/2024 17:28:57] \u001b[m\"POST /chat-response/ HTTP/1.1\" 200 430\u001b[0m\n",
            "[19/Jun/2024 17:29:05] \u001b[m\"POST /chat-response/ HTTP/1.1\" 200 194\u001b[0m\n",
            "[19/Jun/2024 17:29:13] \u001b[m\"POST /chat-response/ HTTP/1.1\" 200 194\u001b[0m\n",
            "[19/Jun/2024 17:29:23] \u001b[m\"POST /chat-response/ HTTP/1.1\" 200 392\u001b[0m\n",
            "[19/Jun/2024 17:31:04] \u001b[m\"GET / HTTP/1.1\" 200 6193\u001b[0m\n",
            "Not Found: /favicon.ico\n",
            "[19/Jun/2024 17:31:05] \u001b[33m\"GET /favicon.ico HTTP/1.1\" 404 2462\u001b[0m\n",
            "[19/Jun/2024 17:31:08] \u001b[m\"POST /chat-response/ HTTP/1.1\" 200 375\u001b[0m\n",
            "[19/Jun/2024 17:31:24] \u001b[m\"POST /chat-response/ HTTP/1.1\" 200 448\u001b[0m\n",
            "[19/Jun/2024 17:31:30] \u001b[m\"POST /chat-response/ HTTP/1.1\" 200 291\u001b[0m\n",
            "[19/Jun/2024 17:31:32] \u001b[m\"POST /chat-response/ HTTP/1.1\" 200 369\u001b[0m\n",
            "[19/Jun/2024 17:31:34] \u001b[m\"POST /chat-response/ HTTP/1.1\" 200 381\u001b[0m\n",
            "[19/Jun/2024 17:31:35] \u001b[m\"POST /chat-response/ HTTP/1.1\" 200 393\u001b[0m\n",
            "[19/Jun/2024 17:31:37] \u001b[m\"POST /chat-response/ HTTP/1.1\" 200 393\u001b[0m\n",
            "[19/Jun/2024 17:31:38] \u001b[m\"POST /chat-response/ HTTP/1.1\" 200 387\u001b[0m\n",
            "[19/Jun/2024 17:31:41] \u001b[m\"POST /chat-response/ HTTP/1.1\" 200 375\u001b[0m\n",
            "[19/Jun/2024 17:33:19] \u001b[m\"GET / HTTP/1.1\" 200 6008\u001b[0m\n",
            "Not Found: /favicon.ico\n",
            "[19/Jun/2024 17:33:20] \u001b[33m\"GET /favicon.ico HTTP/1.1\" 404 2462\u001b[0m\n",
            "[19/Jun/2024 17:33:23] \u001b[m\"POST /chat-response/ HTTP/1.1\" 200 357\u001b[0m\n",
            "[19/Jun/2024 17:33:26] \u001b[m\"POST /chat-response/ HTTP/1.1\" 200 399\u001b[0m\n",
            "[19/Jun/2024 17:33:27] \u001b[m\"POST /chat-response/ HTTP/1.1\" 200 411\u001b[0m\n",
            "[19/Jun/2024 17:33:28] \u001b[m\"POST /chat-response/ HTTP/1.1\" 200 411\u001b[0m\n",
            "[19/Jun/2024 17:33:29] \u001b[m\"POST /chat-response/ HTTP/1.1\" 200 411\u001b[0m\n",
            "[19/Jun/2024 17:33:30] \u001b[m\"POST /chat-response/ HTTP/1.1\" 200 423\u001b[0m\n",
            "[19/Jun/2024 17:33:31] \u001b[m\"POST /chat-response/ HTTP/1.1\" 200 435\u001b[0m\n",
            "[19/Jun/2024 17:33:33] \u001b[m\"POST /chat-response/ HTTP/1.1\" 200 453\u001b[0m\n",
            "[19/Jun/2024 17:33:35] \u001b[m\"POST /chat-response/ HTTP/1.1\" 200 459\u001b[0m\n",
            "[19/Jun/2024 17:33:49] \u001b[m\"GET / HTTP/1.1\" 200 6061\u001b[0m\n",
            "Not Found: /favicon.ico\n",
            "[19/Jun/2024 17:33:50] \u001b[33m\"GET /favicon.ico HTTP/1.1\" 404 2462\u001b[0m\n",
            "[19/Jun/2024 17:34:01] \u001b[m\"GET / HTTP/1.1\" 200 6061\u001b[0m\n",
            "Not Found: /favicon.ico\n",
            "[19/Jun/2024 17:34:01] \u001b[33m\"GET /favicon.ico HTTP/1.1\" 404 2462\u001b[0m\n",
            "[19/Jun/2024 17:34:04] \u001b[m\"POST /chat-response/ HTTP/1.1\" 200 627\u001b[0m\n",
            "[19/Jun/2024 17:34:06] \u001b[m\"POST /chat-response/ HTTP/1.1\" 200 585\u001b[0m\n",
            "[19/Jun/2024 17:34:09] \u001b[m\"POST /chat-response/ HTTP/1.1\" 200 459\u001b[0m\n",
            "[19/Jun/2024 17:34:10] \u001b[m\"POST /chat-response/ HTTP/1.1\" 200 441\u001b[0m\n",
            "[19/Jun/2024 17:34:11] \u001b[m\"POST /chat-response/ HTTP/1.1\" 200 423\u001b[0m\n",
            "[19/Jun/2024 17:34:16] \u001b[m\"POST /chat-response/ HTTP/1.1\" 200 365\u001b[0m\n",
            "[19/Jun/2024 17:34:19] \u001b[m\"POST /chat-response/ HTTP/1.1\" 200 377\u001b[0m\n",
            "[19/Jun/2024 17:34:26] \u001b[m\"POST /chat-response/ HTTP/1.1\" 200 573\u001b[0m\n",
            "[19/Jun/2024 17:34:41] \u001b[m\"GET / HTTP/1.1\" 200 6061\u001b[0m\n",
            "Not Found: /favicon.ico\n",
            "[19/Jun/2024 17:34:41] \u001b[33m\"GET /favicon.ico HTTP/1.1\" 404 2462\u001b[0m\n",
            "[19/Jun/2024 17:34:50] \u001b[m\"GET / HTTP/1.1\" 200 6061\u001b[0m\n",
            "Not Found: /favicon.ico\n",
            "[19/Jun/2024 17:34:51] \u001b[33m\"GET /favicon.ico HTTP/1.1\" 404 2462\u001b[0m\n",
            "[19/Jun/2024 17:35:00] \u001b[m\"POST /chat-response/ HTTP/1.1\" 200 290\u001b[0m\n",
            "[19/Jun/2024 17:35:05] \u001b[m\"POST /chat-response/ HTTP/1.1\" 200 430\u001b[0m\n",
            "[19/Jun/2024 17:35:17] \u001b[m\"POST /chat-response/ HTTP/1.1\" 200 523\u001b[0m\n",
            "[19/Jun/2024 17:35:27] \u001b[m\"POST /chat-response/ HTTP/1.1\" 200 392\u001b[0m\n",
            "[19/Jun/2024 17:35:41] \u001b[m\"POST /chat-response/ HTTP/1.1\" 200 395\u001b[0m\n",
            "[19/Jun/2024 17:35:45] \u001b[m\"POST /chat-response/ HTTP/1.1\" 200 176\u001b[0m\n",
            "[19/Jun/2024 17:35:48] \u001b[m\"POST /chat-response/ HTTP/1.1\" 200 358\u001b[0m\n",
            "[19/Jun/2024 17:35:50] \u001b[m\"POST /chat-response/ HTTP/1.1\" 200 363\u001b[0m\n",
            "[19/Jun/2024 17:35:53] \u001b[m\"POST /chat-response/ HTTP/1.1\" 200 253\u001b[0m\n",
            "[19/Jun/2024 17:38:13] \u001b[m\"GET / HTTP/1.1\" 200 6061\u001b[0m\n",
            "Not Found: /favicon.ico\n",
            "[19/Jun/2024 17:38:13] \u001b[33m\"GET /favicon.ico HTTP/1.1\" 404 2462\u001b[0m\n",
            "[19/Jun/2024 17:38:17] \u001b[m\"POST /chat-response/ HTTP/1.1\" 200 375\u001b[0m\n",
            "[19/Jun/2024 17:38:32] \u001b[m\"GET / HTTP/1.1\" 200 6062\u001b[0m\n",
            "Not Found: /favicon.ico\n",
            "[19/Jun/2024 17:38:33] \u001b[33m\"GET /favicon.ico HTTP/1.1\" 404 2462\u001b[0m\n",
            "[19/Jun/2024 17:38:35] \u001b[m\"POST /chat-response/ HTTP/1.1\" 200 357\u001b[0m\n",
            "[19/Jun/2024 17:39:30] \u001b[m\"GET / HTTP/1.1\" 200 6061\u001b[0m\n",
            "Not Found: /favicon.ico\n",
            "[19/Jun/2024 17:39:30] \u001b[33m\"GET /favicon.ico HTTP/1.1\" 404 2462\u001b[0m\n",
            "[19/Jun/2024 17:39:33] \u001b[m\"POST /chat-response/ HTTP/1.1\" 200 357\u001b[0m\n",
            "[19/Jun/2024 17:39:53] \u001b[m\"POST /chat-response/ HTTP/1.1\" 200 340\u001b[0m\n",
            "[19/Jun/2024 17:40:03] \u001b[m\"POST /chat-response/ HTTP/1.1\" 200 501\u001b[0m\n",
            "[19/Jun/2024 17:40:11] \u001b[m\"POST /chat-response/ HTTP/1.1\" 200 141\u001b[0m\n",
            "[19/Jun/2024 17:40:17] \u001b[m\"POST /chat-response/ HTTP/1.1\" 200 300\u001b[0m\n",
            "[19/Jun/2024 17:40:46] \u001b[m\"GET / HTTP/1.1\" 200 6061\u001b[0m\n",
            "Not Found: /favicon.ico\n",
            "[19/Jun/2024 17:40:46] \u001b[33m\"GET /favicon.ico HTTP/1.1\" 404 2462\u001b[0m\n",
            "[19/Jun/2024 17:40:52] \u001b[m\"POST /chat-response/ HTTP/1.1\" 200 357\u001b[0m\n",
            "[19/Jun/2024 17:40:56] \u001b[m\"POST /chat-response/ HTTP/1.1\" 200 290\u001b[0m\n",
            "[19/Jun/2024 17:41:03] \u001b[m\"POST /chat-response/ HTTP/1.1\" 200 447\u001b[0m\n",
            "[19/Jun/2024 17:41:12] \u001b[m\"POST /chat-response/ HTTP/1.1\" 200 401\u001b[0m\n",
            "[19/Jun/2024 17:45:33] \u001b[m\"GET / HTTP/1.1\" 200 6050\u001b[0m\n",
            "Not Found: /favicon.ico\n",
            "[19/Jun/2024 17:45:33] \u001b[33m\"GET /favicon.ico HTTP/1.1\" 404 2462\u001b[0m\n",
            "[19/Jun/2024 17:45:51] \u001b[m\"GET / HTTP/1.1\" 200 6052\u001b[0m\n",
            "Not Found: /favicon.ico\n",
            "[19/Jun/2024 17:45:51] \u001b[33m\"GET /favicon.ico HTTP/1.1\" 404 2462\u001b[0m\n",
            "[19/Jun/2024 17:46:05] \u001b[m\"POST /chat-response/ HTTP/1.1\" 200 579\u001b[0m\n",
            "[19/Jun/2024 17:46:14] \u001b[m\"POST /chat-response/ HTTP/1.1\" 200 235\u001b[0m\n",
            "[19/Jun/2024 17:46:20] \u001b[m\"POST /chat-response/ HTTP/1.1\" 200 284\u001b[0m\n",
            "[19/Jun/2024 17:46:23] \u001b[m\"POST /chat-response/ HTTP/1.1\" 200 231\u001b[0m\n",
            "[19/Jun/2024 17:46:27] \u001b[m\"POST /chat-response/ HTTP/1.1\" 200 307\u001b[0m\n",
            "[19/Jun/2024 17:46:31] \u001b[m\"POST /chat-response/ HTTP/1.1\" 200 313\u001b[0m\n",
            "[19/Jun/2024 17:46:35] \u001b[m\"POST /chat-response/ HTTP/1.1\" 200 277\u001b[0m\n",
            "[19/Jun/2024 17:46:39] \u001b[m\"POST /chat-response/ HTTP/1.1\" 200 302\u001b[0m\n",
            "[19/Jun/2024 17:46:42] \u001b[m\"POST /chat-response/ HTTP/1.1\" 200 284\u001b[0m\n",
            "[19/Jun/2024 17:46:49] \u001b[m\"POST /chat-response/ HTTP/1.1\" 200 328\u001b[0m\n",
            "[19/Jun/2024 17:48:14] \u001b[m\"POST /chat-response/ HTTP/1.1\" 200 271\u001b[0m\n",
            "[19/Jun/2024 17:48:19] \u001b[m\"POST /chat-response/ HTTP/1.1\" 200 375\u001b[0m\n",
            "[19/Jun/2024 17:48:23] \u001b[m\"POST /chat-response/ HTTP/1.1\" 200 203\u001b[0m\n",
            "[19/Jun/2024 17:48:27] \u001b[m\"POST /chat-response/ HTTP/1.1\" 200 297\u001b[0m\n",
            "[19/Jun/2024 17:48:32] \u001b[m\"POST /chat-response/ HTTP/1.1\" 200 313\u001b[0m\n",
            "[19/Jun/2024 17:48:35] \u001b[m\"POST /chat-response/ HTTP/1.1\" 200 271\u001b[0m\n",
            "[19/Jun/2024 17:48:38] \u001b[m\"POST /chat-response/ HTTP/1.1\" 200 405\u001b[0m\n",
            "[19/Jun/2024 17:48:45] \u001b[m\"POST /chat-response/ HTTP/1.1\" 200 396\u001b[0m\n",
            "[19/Jun/2024 17:48:52] \u001b[m\"POST /chat-response/ HTTP/1.1\" 200 326\u001b[0m\n",
            "[19/Jun/2024 17:49:13] \u001b[m\"POST /chat-response/ HTTP/1.1\" 200 289\u001b[0m\n",
            "[19/Jun/2024 17:49:39] \u001b[m\"POST /chat-response/ HTTP/1.1\" 200 429\u001b[0m\n"
          ]
        }
      ]
    },
    {
      "cell_type": "code",
      "source": [
        "!python manage.py startapp chat_bot"
      ],
      "metadata": {
        "id": "NkD4jrmcGCu0"
      },
      "execution_count": null,
      "outputs": []
    },
    {
      "cell_type": "code",
      "source": [
        "%cd chat_bot"
      ],
      "metadata": {
        "colab": {
          "base_uri": "https://localhost:8080/"
        },
        "id": "liHh25RpL6vj",
        "outputId": "674f0220-c42c-44cb-b260-9f82ace55f0f"
      },
      "execution_count": null,
      "outputs": [
        {
          "output_type": "stream",
          "name": "stdout",
          "text": [
            "/content/chat/chat_bot\n"
          ]
        }
      ]
    },
    {
      "cell_type": "code",
      "source": [
        "%cd .."
      ],
      "metadata": {
        "colab": {
          "base_uri": "https://localhost:8080/"
        },
        "id": "c3BYDCekLIqf",
        "outputId": "63a2026d-3210-4102-8070-3cb261ece7b5"
      },
      "execution_count": 14,
      "outputs": [
        {
          "output_type": "stream",
          "name": "stdout",
          "text": [
            "/content\n"
          ]
        }
      ]
    },
    {
      "cell_type": "code",
      "source": [
        "!mkdir templates"
      ],
      "metadata": {
        "id": "lbJFbS1OL0NR"
      },
      "execution_count": null,
      "outputs": []
    },
    {
      "cell_type": "code",
      "source": [
        "!pip install -q sentence-transformers"
      ],
      "metadata": {
        "colab": {
          "base_uri": "https://localhost:8080/"
        },
        "id": "PGjH8x5y4EUd",
        "outputId": "a8431c64-7166-44d3-b32d-693f4df30231"
      },
      "execution_count": 7,
      "outputs": [
        {
          "output_type": "stream",
          "name": "stdout",
          "text": [
            "\u001b[2K     \u001b[90m━━━━━━━━━━━━━━━━━━━━━━━━━━━━━━━━━━━━━━━━\u001b[0m \u001b[32m227.1/227.1 kB\u001b[0m \u001b[31m3.9 MB/s\u001b[0m eta \u001b[36m0:00:00\u001b[0m\n",
            "\u001b[2K     \u001b[90m━━━━━━━━━━━━━━━━━━━━━━━━━━━━━━━━━━━━━━━━\u001b[0m \u001b[32m21.3/21.3 MB\u001b[0m \u001b[31m43.1 MB/s\u001b[0m eta \u001b[36m0:00:00\u001b[0m\n",
            "\u001b[?25h"
          ]
        }
      ]
    },
    {
      "cell_type": "markdown",
      "source": [
        "## database의 migration 생성 = session을 받기 위해"
      ],
      "metadata": {
        "id": "bX6IBlwVFlSV"
      }
    },
    {
      "cell_type": "code",
      "source": [
        "!python manage.py makemigrations\n",
        "!python manage.py migrate"
      ],
      "metadata": {
        "colab": {
          "base_uri": "https://localhost:8080/"
        },
        "id": "EXsT_ZLXA5dC",
        "outputId": "f9853787-b5af-4870-a1f6-1516a4c8c068"
      },
      "execution_count": 19,
      "outputs": [
        {
          "output_type": "stream",
          "name": "stdout",
          "text": [
            "Traceback (most recent call last):\n",
            "  File \"<frozen importlib._bootstrap>\", line 1027, in _find_and_load\n",
            "  File \"<frozen importlib._bootstrap>\", line 1006, in _find_and_load_unlocked\n",
            "  File \"<frozen importlib._bootstrap>\", line 688, in _load_unlocked\n",
            "  File \"<frozen importlib._bootstrap_external>\", line 883, in exec_module\n",
            "  File \"<frozen importlib._bootstrap>\", line 241, in _call_with_frames_removed\n",
            "  File \"/usr/local/lib/python3.10/dist-packages/torch/nn/__init__.py\", line 1, in <module>\n",
            "    from .modules import *  # noqa: F403\n",
            "  File \"/usr/local/lib/python3.10/dist-packages/torch/nn/modules/__init__.py\", line 2, in <module>\n",
            "    from .linear import Identity, Linear, Bilinear, LazyLinear\n",
            "  File \"/usr/local/lib/python3.10/dist-packages/torch/nn/modules/linear.py\", line 7, in <module>\n",
            "    from .. import functional as F\n",
            "  File \"/usr/local/lib/python3.10/dist-packages/torch/nn/functional.py\", line 25, in <module>\n",
            "    from .._jit_internal import boolean_dispatch, _overload, BroadcastingList1, BroadcastingList2, BroadcastingList3\n",
            "  File \"/usr/local/lib/python3.10/dist-packages/torch/_jit_internal.py\", line 44, in <module>\n",
            "    import torch.distributed.rpc\n",
            "  File \"/usr/local/lib/python3.10/dist-packages/torch/distributed/__init__.py\", line 119, in <module>\n",
            "    from .remote_device import _remote_device\n",
            "  File \"<frozen importlib._bootstrap>\", line 1027, in _find_and_load\n",
            "  File \"<frozen importlib._bootstrap>\", line 1006, in _find_and_load_unlocked\n",
            "  File \"<frozen importlib._bootstrap>\", line 674, in _load_unlocked\n",
            "  File \"<frozen importlib._bootstrap>\", line 571, in module_from_spec\n",
            "  File \"<frozen importlib._bootstrap_external>\", line 874, in create_module\n",
            "KeyboardInterrupt\n",
            "\n",
            "During handling of the above exception, another exception occurred:\n",
            "\n",
            "Traceback (most recent call last):\n",
            "  File \"/content/chat/manage.py\", line 22, in <module>\n",
            "    main()\n",
            "  File \"/content/chat/manage.py\", line 18, in main\n",
            "    execute_from_command_line(sys.argv)\n",
            "  File \"/usr/local/lib/python3.10/dist-packages/django/core/management/__init__.py\", line 442, in execute_from_command_line\n",
            "    utility.execute()\n",
            "  File \"/usr/local/lib/python3.10/dist-packages/django/core/management/__init__.py\", line 436, in execute\n",
            "    self.fetch_command(subcommand).run_from_argv(self.argv)\n",
            "  File \"/usr/local/lib/python3.10/dist-packages/django/core/management/base.py\", line 413, in run_from_argv\n",
            "    self.execute(*args, **cmd_options)\n",
            "  File \"/usr/local/lib/python3.10/dist-packages/django/core/management/base.py\", line 454, in execute\n",
            "    self.check()\n",
            "  File \"/usr/local/lib/python3.10/dist-packages/django/core/management/base.py\", line 486, in check\n",
            "    all_issues = checks.run_checks(\n",
            "  File \"/usr/local/lib/python3.10/dist-packages/django/core/checks/registry.py\", line 88, in run_checks\n",
            "    new_errors = check(app_configs=app_configs, databases=databases)\n",
            "  File \"/usr/local/lib/python3.10/dist-packages/django/core/checks/urls.py\", line 42, in check_url_namespaces_unique\n",
            "    all_namespaces = _load_all_namespaces(resolver)\n",
            "  File \"/usr/local/lib/python3.10/dist-packages/django/core/checks/urls.py\", line 61, in _load_all_namespaces\n",
            "    url_patterns = getattr(resolver, \"url_patterns\", [])\n",
            "  File \"/usr/local/lib/python3.10/dist-packages/django/utils/functional.py\", line 47, in __get__\n",
            "    res = instance.__dict__[self.name] = self.func(instance)\n",
            "  File \"/usr/local/lib/python3.10/dist-packages/django/urls/resolvers.py\", line 738, in url_patterns\n",
            "    patterns = getattr(self.urlconf_module, \"urlpatterns\", self.urlconf_module)\n",
            "  File \"/usr/local/lib/python3.10/dist-packages/django/utils/functional.py\", line 47, in __get__\n",
            "    res = instance.__dict__[self.name] = self.func(instance)\n",
            "  File \"/usr/local/lib/python3.10/dist-packages/django/urls/resolvers.py\", line 731, in urlconf_module\n",
            "    return import_module(self.urlconf_name)\n",
            "  File \"/usr/lib/python3.10/importlib/__init__.py\", line 126, in import_module\n",
            "    return _bootstrap._gcd_import(name[level:], package, level)\n",
            "  File \"<frozen importlib._bootstrap>\", line 1050, in _gcd_import\n",
            "  File \"<frozen importlib._bootstrap>\", line 1027, in _find_and_load\n",
            "  File \"<frozen importlib._bootstrap>\", line 1006, in _find_and_load_unlocked\n",
            "  File \"<frozen importlib._bootstrap>\", line 688, in _load_unlocked\n",
            "  File \"<frozen importlib._bootstrap_external>\", line 883, in exec_module\n",
            "  File \"<frozen importlib._bootstrap>\", line 241, in _call_with_frames_removed\n",
            "  File \"/content/chat/chat/urls.py\", line 22, in <module>\n",
            "    path('', include('chat_bot.urls')),\n",
            "  File \"/usr/local/lib/python3.10/dist-packages/django/urls/conf.py\", line 39, in include\n",
            "    urlconf_module = import_module(urlconf_module)\n",
            "  File \"/usr/lib/python3.10/importlib/__init__.py\", line 126, in import_module\n",
            "    return _bootstrap._gcd_import(name[level:], package, level)\n",
            "  File \"<frozen importlib._bootstrap>\", line 1050, in _gcd_import\n",
            "  File \"<frozen importlib._bootstrap>\", line 1027, in _find_and_load\n",
            "  File \"<frozen importlib._bootstrap>\", line 1006, in _find_and_load_unlocked\n",
            "  File \"<frozen importlib._bootstrap>\", line 688, in _load_unlocked\n",
            "  File \"<frozen importlib._bootstrap_external>\", line 883, in exec_module\n",
            "  File \"<frozen importlib._bootstrap>\", line 241, in _call_with_frames_removed\n",
            "  File \"/content/chat/chat_bot/urls.py\", line 2, in <module>\n",
            "    from . import views\n",
            "  File \"/content/chat/chat_bot/views.py\", line 4, in <module>\n",
            "    from .models import chat\n",
            "  File \"/content/chat/chat_bot/models.py\", line 3, in <module>\n",
            "    from sentence_transformers import SentenceTransformer, util\n",
            "  File \"/usr/local/lib/python3.10/dist-packages/sentence_transformers/__init__.py\", line 7, in <module>\n",
            "    from sentence_transformers.cross_encoder.CrossEncoder import CrossEncoder\n",
            "  File \"/usr/local/lib/python3.10/dist-packages/sentence_transformers/cross_encoder/__init__.py\", line 1, in <module>\n",
            "    from .CrossEncoder import CrossEncoder\n",
            "  File \"/usr/local/lib/python3.10/dist-packages/sentence_transformers/cross_encoder/CrossEncoder.py\", line 7, in <module>\n",
            "    import torch\n",
            "  File \"/usr/local/lib/python3.10/dist-packages/torch/__init__.py\", line 1537, in <module>\n",
            "    from .functional import *  # noqa: F403\n",
            "  File \"/usr/local/lib/python3.10/dist-packages/torch/functional.py\", line 9, in <module>\n",
            "    import torch.nn.functional as F\n",
            "  File \"<frozen importlib._bootstrap>\", line 1024, in _find_and_load\n",
            "  File \"<frozen importlib._bootstrap>\", line 174, in __exit__\n",
            "  File \"<frozen importlib._bootstrap>\", line 128, in release\n",
            "KeyboardInterrupt\n",
            "^C\n",
            "Traceback (most recent call last):\n",
            "  File \"/content/chat/manage.py\", line 22, in <module>\n",
            "    main()\n",
            "  File \"/content/chat/manage.py\", line 18, in main\n",
            "    execute_from_command_line(sys.argv)\n",
            "  File \"/usr/local/lib/python3.10/dist-packages/django/core/management/__init__.py\", line 442, in execute_from_command_line\n",
            "    utility.execute()\n",
            "  File \"/usr/local/lib/python3.10/dist-packages/django/core/management/__init__.py\", line 436, in execute\n",
            "    self.fetch_command(subcommand).run_from_argv(self.argv)\n",
            "  File \"/usr/local/lib/python3.10/dist-packages/django/core/management/base.py\", line 413, in run_from_argv\n",
            "    self.execute(*args, **cmd_options)\n",
            "  File \"/usr/local/lib/python3.10/dist-packages/django/core/management/base.py\", line 459, in execute\n",
            "    output = self.handle(*args, **options)\n",
            "  File \"/usr/local/lib/python3.10/dist-packages/django/core/management/base.py\", line 107, in wrapper\n",
            "    res = handle_func(*args, **kwargs)\n",
            "  File \"/usr/local/lib/python3.10/dist-packages/django/core/management/commands/migrate.py\", line 100, in handle\n",
            "    self.check(databases=[database])\n",
            "  File \"/usr/local/lib/python3.10/dist-packages/django/core/management/base.py\", line 486, in check\n",
            "    all_issues = checks.run_checks(\n",
            "  File \"/usr/local/lib/python3.10/dist-packages/django/core/checks/registry.py\", line 88, in run_checks\n",
            "    new_errors = check(app_configs=app_configs, databases=databases)\n",
            "  File \"/usr/local/lib/python3.10/dist-packages/django/core/checks/urls.py\", line 42, in check_url_namespaces_unique\n",
            "    all_namespaces = _load_all_namespaces(resolver)\n",
            "  File \"/usr/local/lib/python3.10/dist-packages/django/core/checks/urls.py\", line 61, in _load_all_namespaces\n",
            "    url_patterns = getattr(resolver, \"url_patterns\", [])\n",
            "  File \"/usr/local/lib/python3.10/dist-packages/django/utils/functional.py\", line 47, in __get__\n",
            "    res = instance.__dict__[self.name] = self.func(instance)\n",
            "  File \"/usr/local/lib/python3.10/dist-packages/django/urls/resolvers.py\", line 738, in url_patterns\n",
            "    patterns = getattr(self.urlconf_module, \"urlpatterns\", self.urlconf_module)\n",
            "  File \"/usr/local/lib/python3.10/dist-packages/django/utils/functional.py\", line 47, in __get__\n",
            "    res = instance.__dict__[self.name] = self.func(instance)\n",
            "  File \"/usr/local/lib/python3.10/dist-packages/django/urls/resolvers.py\", line 731, in urlconf_module\n",
            "    return import_module(self.urlconf_name)\n",
            "  File \"/usr/lib/python3.10/importlib/__init__.py\", line 126, in import_module\n",
            "    return _bootstrap._gcd_import(name[level:], package, level)\n",
            "  File \"<frozen importlib._bootstrap>\", line 1050, in _gcd_import\n",
            "  File \"<frozen importlib._bootstrap>\", line 1027, in _find_and_load\n",
            "  File \"<frozen importlib._bootstrap>\", line 1006, in _find_and_load_unlocked\n",
            "  File \"<frozen importlib._bootstrap>\", line 688, in _load_unlocked\n",
            "  File \"<frozen importlib._bootstrap_external>\", line 883, in exec_module\n",
            "  File \"<frozen importlib._bootstrap>\", line 241, in _call_with_frames_removed\n",
            "  File \"/content/chat/chat/urls.py\", line 22, in <module>\n",
            "    path('', include('chat_bot.urls')),\n",
            "  File \"/usr/local/lib/python3.10/dist-packages/django/urls/conf.py\", line 39, in include\n",
            "    urlconf_module = import_module(urlconf_module)\n",
            "  File \"/usr/lib/python3.10/importlib/__init__.py\", line 126, in import_module\n",
            "    return _bootstrap._gcd_import(name[level:], package, level)\n",
            "  File \"<frozen importlib._bootstrap>\", line 1050, in _gcd_import\n",
            "  File \"<frozen importlib._bootstrap>\", line 1027, in _find_and_load\n",
            "  File \"<frozen importlib._bootstrap>\", line 1006, in _find_and_load_unlocked\n",
            "  File \"<frozen importlib._bootstrap>\", line 688, in _load_unlocked\n",
            "  File \"<frozen importlib._bootstrap_external>\", line 883, in exec_module\n",
            "  File \"<frozen importlib._bootstrap>\", line 241, in _call_with_frames_removed\n",
            "  File \"/content/chat/chat_bot/urls.py\", line 2, in <module>\n",
            "    from . import views\n",
            "  File \"/content/chat/chat_bot/views.py\", line 4, in <module>\n",
            "    from .models import chat\n",
            "  File \"/content/chat/chat_bot/models.py\", line 3, in <module>\n",
            "    from sentence_transformers import SentenceTransformer, util\n",
            "  File \"/usr/local/lib/python3.10/dist-packages/sentence_transformers/__init__.py\", line 7, in <module>\n",
            "    from sentence_transformers.cross_encoder.CrossEncoder import CrossEncoder\n",
            "  File \"/usr/local/lib/python3.10/dist-packages/sentence_transformers/cross_encoder/__init__.py\", line 1, in <module>\n",
            "    from .CrossEncoder import CrossEncoder\n",
            "  File \"/usr/local/lib/python3.10/dist-packages/sentence_transformers/cross_encoder/CrossEncoder.py\", line 16, in <module>\n",
            "    from sentence_transformers.evaluation.SentenceEvaluator import SentenceEvaluator\n",
            "  File \"/usr/local/lib/python3.10/dist-packages/sentence_transformers/evaluation/__init__.py\", line 1, in <module>\n",
            "    from .BinaryClassificationEvaluator import BinaryClassificationEvaluator\n",
            "  File \"/usr/local/lib/python3.10/dist-packages/sentence_transformers/evaluation/BinaryClassificationEvaluator.py\", line 8, in <module>\n",
            "    from sklearn.metrics import average_precision_score\n",
            "  File \"/usr/local/lib/python3.10/dist-packages/sklearn/__init__.py\", line 82, in <module>\n",
            "    from .base import clone\n",
            "  File \"/usr/local/lib/python3.10/dist-packages/sklearn/base.py\", line 17, in <module>\n",
            "    from .utils import _IS_32BIT\n",
            "  File \"/usr/local/lib/python3.10/dist-packages/sklearn/utils/__init__.py\", line 25, in <module>\n",
            "    from .fixes import parse_version, threadpool_info\n",
            "  File \"/usr/local/lib/python3.10/dist-packages/sklearn/utils/fixes.py\", line 19, in <module>\n",
            "    import scipy.stats\n",
            "  File \"/usr/local/lib/python3.10/dist-packages/scipy/stats/__init__.py\", line 608, in <module>\n",
            "    from ._stats_py import *\n",
            "  File \"/usr/local/lib/python3.10/dist-packages/scipy/stats/_stats_py.py\", line 46, in <module>\n",
            "    from . import distributions\n",
            "  File \"/usr/local/lib/python3.10/dist-packages/scipy/stats/distributions.py\", line 10, in <module>\n",
            "    from . import _continuous_distns\n",
            "  File \"/usr/local/lib/python3.10/dist-packages/scipy/stats/_continuous_distns.py\", line 23, in <module>\n",
            "    from . import _stats\n",
            "  File \"_stats.pyx\", line 1, in init scipy.stats._stats\n",
            "  File \"<frozen importlib._bootstrap>\", line 404, in parent\n",
            "KeyboardInterrupt\n",
            "^C\n"
          ]
        }
      ]
    },
    {
      "cell_type": "code",
      "source": [
        "!python manage.py showmigrations"
      ],
      "metadata": {
        "colab": {
          "base_uri": "https://localhost:8080/"
        },
        "id": "0cRPpgd7BGDm",
        "outputId": "4091a4b1-e2b6-4cbd-b5e5-95fc98b2ddf9"
      },
      "execution_count": 20,
      "outputs": [
        {
          "output_type": "stream",
          "name": "stdout",
          "text": [
            "Traceback (most recent call last):\n",
            "  File \"/content/chat/manage.py\", line 22, in <module>\n",
            "    main()\n",
            "  File \"/content/chat/manage.py\", line 18, in main\n",
            "    execute_from_command_line(sys.argv)\n",
            "  File \"/usr/local/lib/python3.10/dist-packages/django/core/management/__init__.py\", line 442, in execute_from_command_line\n",
            "    utility.execute()\n",
            "  File \"/usr/local/lib/python3.10/dist-packages/django/core/management/__init__.py\", line 436, in execute\n",
            "    self.fetch_command(subcommand).run_from_argv(self.argv)\n",
            "  File \"/usr/local/lib/python3.10/dist-packages/django/core/management/base.py\", line 413, in run_from_argv\n",
            "    self.execute(*args, **cmd_options)\n",
            "  File \"/usr/local/lib/python3.10/dist-packages/django/core/management/base.py\", line 454, in execute\n",
            "    self.check()\n",
            "  File \"/usr/local/lib/python3.10/dist-packages/django/core/management/base.py\", line 486, in check\n",
            "    all_issues = checks.run_checks(\n",
            "  File \"/usr/local/lib/python3.10/dist-packages/django/core/checks/registry.py\", line 88, in run_checks\n",
            "    new_errors = check(app_configs=app_configs, databases=databases)\n",
            "  File \"/usr/local/lib/python3.10/dist-packages/django/core/checks/urls.py\", line 42, in check_url_namespaces_unique\n",
            "    all_namespaces = _load_all_namespaces(resolver)\n",
            "  File \"/usr/local/lib/python3.10/dist-packages/django/core/checks/urls.py\", line 61, in _load_all_namespaces\n",
            "    url_patterns = getattr(resolver, \"url_patterns\", [])\n",
            "  File \"/usr/local/lib/python3.10/dist-packages/django/utils/functional.py\", line 47, in __get__\n",
            "    res = instance.__dict__[self.name] = self.func(instance)\n",
            "  File \"/usr/local/lib/python3.10/dist-packages/django/urls/resolvers.py\", line 738, in url_patterns\n",
            "    patterns = getattr(self.urlconf_module, \"urlpatterns\", self.urlconf_module)\n",
            "  File \"/usr/local/lib/python3.10/dist-packages/django/utils/functional.py\", line 47, in __get__\n",
            "    res = instance.__dict__[self.name] = self.func(instance)\n",
            "  File \"/usr/local/lib/python3.10/dist-packages/django/urls/resolvers.py\", line 731, in urlconf_module\n",
            "    return import_module(self.urlconf_name)\n",
            "  File \"/usr/lib/python3.10/importlib/__init__.py\", line 126, in import_module\n",
            "    return _bootstrap._gcd_import(name[level:], package, level)\n",
            "  File \"<frozen importlib._bootstrap>\", line 1050, in _gcd_import\n",
            "  File \"<frozen importlib._bootstrap>\", line 1027, in _find_and_load\n",
            "  File \"<frozen importlib._bootstrap>\", line 1006, in _find_and_load_unlocked\n",
            "  File \"<frozen importlib._bootstrap>\", line 688, in _load_unlocked\n",
            "  File \"<frozen importlib._bootstrap_external>\", line 883, in exec_module\n",
            "  File \"<frozen importlib._bootstrap>\", line 241, in _call_with_frames_removed\n",
            "  File \"/content/chat/chat/urls.py\", line 22, in <module>\n",
            "    path('', include('chat_bot.urls')),\n",
            "  File \"/usr/local/lib/python3.10/dist-packages/django/urls/conf.py\", line 39, in include\n",
            "    urlconf_module = import_module(urlconf_module)\n",
            "  File \"/usr/lib/python3.10/importlib/__init__.py\", line 126, in import_module\n",
            "    return _bootstrap._gcd_import(name[level:], package, level)\n",
            "  File \"<frozen importlib._bootstrap>\", line 1050, in _gcd_import\n",
            "  File \"<frozen importlib._bootstrap>\", line 1027, in _find_and_load\n",
            "  File \"<frozen importlib._bootstrap>\", line 1006, in _find_and_load_unlocked\n",
            "  File \"<frozen importlib._bootstrap>\", line 688, in _load_unlocked\n",
            "  File \"<frozen importlib._bootstrap_external>\", line 883, in exec_module\n",
            "  File \"<frozen importlib._bootstrap>\", line 241, in _call_with_frames_removed\n",
            "  File \"/content/chat/chat_bot/urls.py\", line 2, in <module>\n",
            "    from . import views\n",
            "  File \"/content/chat/chat_bot/views.py\", line 4, in <module>\n",
            "    from .models import chat\n",
            "  File \"/content/chat/chat_bot/models.py\", line 3, in <module>\n",
            "    from sentence_transformers import SentenceTransformer, util\n",
            "  File \"/usr/local/lib/python3.10/dist-packages/sentence_transformers/__init__.py\", line 7, in <module>\n",
            "    from sentence_transformers.cross_encoder.CrossEncoder import CrossEncoder\n",
            "  File \"/usr/local/lib/python3.10/dist-packages/sentence_transformers/cross_encoder/__init__.py\", line 1, in <module>\n",
            "    from .CrossEncoder import CrossEncoder\n",
            "  File \"/usr/local/lib/python3.10/dist-packages/sentence_transformers/cross_encoder/CrossEncoder.py\", line 12, in <module>\n",
            "    from transformers import AutoConfig, AutoModelForSequenceClassification, AutoTokenizer, is_torch_npu_available\n",
            "  File \"/usr/local/lib/python3.10/dist-packages/transformers/__init__.py\", line 26, in <module>\n",
            "    from . import dependency_versions_check\n",
            "  File \"/usr/local/lib/python3.10/dist-packages/transformers/dependency_versions_check.py\", line 16, in <module>\n",
            "    from .utils.versions import require_version, require_version_core\n",
            "  File \"/usr/local/lib/python3.10/dist-packages/transformers/utils/__init__.py\", line 18, in <module>\n",
            "    from huggingface_hub import get_full_repo_name  # for backward compatibility\n",
            "  File \"<frozen importlib._bootstrap>\", line 1075, in _handle_fromlist\n",
            "  File \"/usr/local/lib/python3.10/dist-packages/huggingface_hub/__init__.py\", line 503, in __getattr__\n",
            "    submod = importlib.import_module(submod_path)\n",
            "  File \"/usr/lib/python3.10/importlib/__init__.py\", line 126, in import_module\n",
            "    return _bootstrap._gcd_import(name[level:], package, level)\n",
            "  File \"/usr/local/lib/python3.10/dist-packages/huggingface_hub/hf_api.py\", line 45, in <module>\n",
            "    import requests\n",
            "  File \"/usr/local/lib/python3.10/dist-packages/requests/__init__.py\", line 43, in <module>\n",
            "    import urllib3\n",
            "  File \"/usr/local/lib/python3.10/dist-packages/urllib3/__init__.py\", line 17, in <module>\n",
            "    from .connectionpool import HTTPConnectionPool, HTTPSConnectionPool, connection_from_url\n",
            "  File \"/usr/local/lib/python3.10/dist-packages/urllib3/connectionpool.py\", line 122, in <module>\n",
            "    class HTTPConnectionPool(ConnectionPool, RequestMethods):\n",
            "KeyboardInterrupt\n",
            "^C\n"
          ]
        }
      ]
    }
  ]
}