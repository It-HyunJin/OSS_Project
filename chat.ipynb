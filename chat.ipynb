{
  "nbformat": 4,
  "nbformat_minor": 0,
  "metadata": {
    "colab": {
      "provenance": [],
      "authorship_tag": "ABX9TyMDXCpdQXcSvvChsn9+e9iB"
    },
    "kernelspec": {
      "name": "python3",
      "display_name": "Python 3"
    },
    "language_info": {
      "name": "python"
    }
  },
  "cells": [
    {
      "cell_type": "markdown",
      "source": [
        "##DJANGO를 실행할 디렉터리로 이동"
      ],
      "metadata": {
        "id": "ATUX0C-ZQt30"
      }
    },
    {
      "cell_type": "code",
      "source": [
        "%cd /content"
      ],
      "metadata": {
        "colab": {
          "base_uri": "https://localhost:8080/"
        },
        "id": "5nrDvuF4ApSq",
        "outputId": "a45e870d-f424-4414-917a-23276927d868"
      },
      "execution_count": 1,
      "outputs": [
        {
          "output_type": "stream",
          "name": "stdout",
          "text": [
            "/content\n"
          ]
        }
      ]
    },
    {
      "cell_type": "markdown",
      "source": [
        "##DJANGO 설치"
      ],
      "metadata": {
        "id": "pYKwQOCfQ5L0"
      }
    },
    {
      "cell_type": "code",
      "execution_count": 2,
      "metadata": {
        "id": "1vY0FK1Cqef7"
      },
      "outputs": [],
      "source": [
        "import os"
      ]
    },
    {
      "cell_type": "code",
      "source": [
        "!pip install django"
      ],
      "metadata": {
        "colab": {
          "base_uri": "https://localhost:8080/"
        },
        "id": "h0B6_MYm4SeX",
        "outputId": "00898390-02f5-4b72-92fe-197437b47d9f"
      },
      "execution_count": 3,
      "outputs": [
        {
          "output_type": "stream",
          "name": "stdout",
          "text": [
            "Collecting django\n",
            "  Downloading Django-5.0.6-py3-none-any.whl (8.2 MB)\n",
            "\u001b[2K     \u001b[90m━━━━━━━━━━━━━━━━━━━━━━━━━━━━━━━━━━━━━━━━\u001b[0m \u001b[32m8.2/8.2 MB\u001b[0m \u001b[31m22.4 MB/s\u001b[0m eta \u001b[36m0:00:00\u001b[0m\n",
            "\u001b[?25hCollecting asgiref<4,>=3.7.0 (from django)\n",
            "  Downloading asgiref-3.8.1-py3-none-any.whl (23 kB)\n",
            "Requirement already satisfied: sqlparse>=0.3.1 in /usr/local/lib/python3.10/dist-packages (from django) (0.5.0)\n",
            "Requirement already satisfied: typing-extensions>=4 in /usr/local/lib/python3.10/dist-packages (from asgiref<4,>=3.7.0->django) (4.12.2)\n",
            "Installing collected packages: asgiref, django\n",
            "Successfully installed asgiref-3.8.1 django-5.0.6\n"
          ]
        }
      ]
    },
    {
      "cell_type": "code",
      "source": [
        "!pip install djangorestframework django-cors-headers"
      ],
      "metadata": {
        "colab": {
          "base_uri": "https://localhost:8080/"
        },
        "id": "y9cNyOFVD45-",
        "outputId": "dc95c832-4957-4c1f-edd4-5781b1454aef"
      },
      "execution_count": null,
      "outputs": [
        {
          "output_type": "stream",
          "name": "stdout",
          "text": [
            "Collecting djangorestframework\n",
            "  Downloading djangorestframework-3.15.1-py3-none-any.whl (1.1 MB)\n",
            "\u001b[2K     \u001b[90m━━━━━━━━━━━━━━━━━━━━━━━━━━━━━━━━━━━━━━━━\u001b[0m \u001b[32m1.1/1.1 MB\u001b[0m \u001b[31m11.4 MB/s\u001b[0m eta \u001b[36m0:00:00\u001b[0m\n",
            "\u001b[?25hCollecting django-cors-headers\n",
            "  Downloading django_cors_headers-4.3.1-py3-none-any.whl (12 kB)\n",
            "Requirement already satisfied: django>=3.0 in /usr/local/lib/python3.10/dist-packages (from djangorestframework) (5.0.6)\n",
            "Requirement already satisfied: asgiref>=3.6 in /usr/local/lib/python3.10/dist-packages (from django-cors-headers) (3.8.1)\n",
            "Requirement already satisfied: typing-extensions>=4 in /usr/local/lib/python3.10/dist-packages (from asgiref>=3.6->django-cors-headers) (4.12.2)\n",
            "Requirement already satisfied: sqlparse>=0.3.1 in /usr/local/lib/python3.10/dist-packages (from django>=3.0->djangorestframework) (0.5.0)\n",
            "Installing collected packages: djangorestframework, django-cors-headers\n",
            "Successfully installed django-cors-headers-4.3.1 djangorestframework-3.15.1\n"
          ]
        }
      ]
    },
    {
      "cell_type": "code",
      "source": [
        "!django-admin startproject chat"
      ],
      "metadata": {
        "id": "CbAF-2nO4QeZ",
        "colab": {
          "base_uri": "https://localhost:8080/"
        },
        "outputId": "b3159530-b191-4139-8c56-238ec91d2445"
      },
      "execution_count": null,
      "outputs": [
        {
          "output_type": "stream",
          "name": "stdout",
          "text": [
            "\u001b[31;1mCommandError: '/content/chat' already exists\n",
            "\u001b[0m"
          ]
        }
      ]
    },
    {
      "cell_type": "code",
      "source": [
        "%cd chat/"
      ],
      "metadata": {
        "colab": {
          "base_uri": "https://localhost:8080/"
        },
        "id": "QpDEcWmFvGfr",
        "outputId": "2be3f834-6686-448f-d15e-6ea087c6a66e"
      },
      "execution_count": 4,
      "outputs": [
        {
          "output_type": "stream",
          "name": "stdout",
          "text": [
            "/content/chat\n"
          ]
        }
      ]
    },
    {
      "cell_type": "markdown",
      "source": [
        "##DJANGO 실행시 웹 확인"
      ],
      "metadata": {
        "id": "OxIlcYFuRv9f"
      }
    },
    {
      "cell_type": "code",
      "source": [
        "from google.colab.output import eval_js\n",
        "print(eval_js(\"google.colab.kernel.proxyPort(8000)\"))"
      ],
      "metadata": {
        "colab": {
          "base_uri": "https://localhost:8080/",
          "height": 35
        },
        "id": "w0rhz3sTv820",
        "outputId": "cb8da070-2346-432d-9b93-29f81688f6e1"
      },
      "execution_count": 5,
      "outputs": [
        {
          "output_type": "stream",
          "name": "stdout",
          "text": [
            "https://fuq568kbup-496ff2e9c6d22116-8000-colab.googleusercontent.com/\n"
          ]
        }
      ]
    },
    {
      "cell_type": "code",
      "source": [
        "!python manage.py runserver 8000"
      ],
      "metadata": {
        "colab": {
          "base_uri": "https://localhost:8080/"
        },
        "id": "MieTBuPgvyey",
        "outputId": "fe2a13e9-5360-467a-82bf-59d575a9372b"
      },
      "execution_count": 10,
      "outputs": [
        {
          "output_type": "stream",
          "name": "stdout",
          "text": [
            "Watching for file changes with StatReloader\n",
            "Performing system checks...\n",
            "\n",
            "2024-06-19 20:14:21.767822: E external/local_xla/xla/stream_executor/cuda/cuda_dnn.cc:9261] Unable to register cuDNN factory: Attempting to register factory for plugin cuDNN when one has already been registered\n",
            "2024-06-19 20:14:21.767866: E external/local_xla/xla/stream_executor/cuda/cuda_fft.cc:607] Unable to register cuFFT factory: Attempting to register factory for plugin cuFFT when one has already been registered\n",
            "2024-06-19 20:14:21.769451: E external/local_xla/xla/stream_executor/cuda/cuda_blas.cc:1515] Unable to register cuBLAS factory: Attempting to register factory for plugin cuBLAS when one has already been registered\n",
            "2024-06-19 20:14:21.778295: I tensorflow/core/platform/cpu_feature_guard.cc:182] This TensorFlow binary is optimized to use available CPU instructions in performance-critical operations.\n",
            "To enable the following instructions: AVX2 FMA, in other operations, rebuild TensorFlow with the appropriate compiler flags.\n",
            "2024-06-19 20:14:23.350798: W tensorflow/compiler/tf2tensorrt/utils/py_utils.cc:38] TF-TRT Warning: Could not find TensorRT\n",
            "/usr/local/lib/python3.10/dist-packages/huggingface_hub/file_download.py:1132: FutureWarning: `resume_download` is deprecated and will be removed in version 1.0.0. Downloads always resume when possible. If you want to force a new download, use `force_download=True`.\n",
            "  warnings.warn(\n",
            "System check identified no issues (0 silenced).\n",
            "June 19, 2024 - 20:16:33\n",
            "Django version 5.0.6, using settings 'chat.settings'\n",
            "Starting development server at http://127.0.0.1:8000/\n",
            "Quit the server with CONTROL-C.\n",
            "\n",
            "[19/Jun/2024 20:16:41] \u001b[m\"GET / HTTP/1.1\" 200 3695\u001b[0m\n",
            "Not Found: /favicon.ico\n",
            "[19/Jun/2024 20:16:42] \u001b[33m\"GET /favicon.ico HTTP/1.1\" 404 2462\u001b[0m\n",
            "[19/Jun/2024 20:16:54] \u001b[m\"POST /chat-response/ HTTP/1.1\" 200 357\u001b[0m\n",
            "[19/Jun/2024 20:17:14] \u001b[m\"POST /chat-response/ HTTP/1.1\" 200 232\u001b[0m\n",
            "[19/Jun/2024 20:17:22] \u001b[m\"POST /chat-response/ HTTP/1.1\" 200 417\u001b[0m\n",
            "[19/Jun/2024 20:17:37] \u001b[m\"POST /chat-response/ HTTP/1.1\" 200 231\u001b[0m\n",
            "[19/Jun/2024 20:17:43] \u001b[m\"POST /chat-response/ HTTP/1.1\" 200 287\u001b[0m\n",
            "[19/Jun/2024 20:17:54] \u001b[m\"POST /chat-response/ HTTP/1.1\" 200 198\u001b[0m\n",
            "[19/Jun/2024 20:17:57] \u001b[m\"POST /chat-response/ HTTP/1.1\" 200 514\u001b[0m\n",
            "[19/Jun/2024 20:18:02] \u001b[m\"POST /chat-response/ HTTP/1.1\" 200 349\u001b[0m\n",
            "[19/Jun/2024 20:18:06] \u001b[m\"POST /chat-response/ HTTP/1.1\" 200 490\u001b[0m\n"
          ]
        }
      ]
    },
    {
      "cell_type": "code",
      "source": [
        "!python manage.py startapp chat_bot"
      ],
      "metadata": {
        "id": "NkD4jrmcGCu0"
      },
      "execution_count": null,
      "outputs": []
    },
    {
      "cell_type": "code",
      "source": [
        "%cd chat_bot"
      ],
      "metadata": {
        "colab": {
          "base_uri": "https://localhost:8080/"
        },
        "id": "liHh25RpL6vj",
        "outputId": "674f0220-c42c-44cb-b260-9f82ace55f0f"
      },
      "execution_count": null,
      "outputs": [
        {
          "output_type": "stream",
          "name": "stdout",
          "text": [
            "/content/chat/chat_bot\n"
          ]
        }
      ]
    },
    {
      "cell_type": "code",
      "source": [
        "%cd .."
      ],
      "metadata": {
        "colab": {
          "base_uri": "https://localhost:8080/"
        },
        "id": "c3BYDCekLIqf",
        "outputId": "63a2026d-3210-4102-8070-3cb261ece7b5"
      },
      "execution_count": null,
      "outputs": [
        {
          "output_type": "stream",
          "name": "stdout",
          "text": [
            "/content\n"
          ]
        }
      ]
    },
    {
      "cell_type": "code",
      "source": [
        "!mkdir templates"
      ],
      "metadata": {
        "id": "lbJFbS1OL0NR"
      },
      "execution_count": null,
      "outputs": []
    },
    {
      "cell_type": "markdown",
      "source": [
        "##HUGGINGSPACE 사용시 필요한 것 설치"
      ],
      "metadata": {
        "id": "ZImAA0mgR7uM"
      }
    },
    {
      "cell_type": "code",
      "source": [
        "!pip install -q sentence-transformers"
      ],
      "metadata": {
        "colab": {
          "base_uri": "https://localhost:8080/"
        },
        "id": "PGjH8x5y4EUd",
        "outputId": "df05551b-c61b-4ec4-c8b6-6d1f3bd40eb2"
      },
      "execution_count": 7,
      "outputs": [
        {
          "output_type": "stream",
          "name": "stdout",
          "text": [
            "\u001b[2K     \u001b[90m━━━━━━━━━━━━━━━━━━━━━━━━━━━━━━━━━━━━━━━━\u001b[0m \u001b[32m227.1/227.1 kB\u001b[0m \u001b[31m4.6 MB/s\u001b[0m eta \u001b[36m0:00:00\u001b[0m\n",
            "\u001b[2K     \u001b[90m━━━━━━━━━━━━━━━━━━━━━━━━━━━━━━━━━━━━━━━━\u001b[0m \u001b[32m21.3/21.3 MB\u001b[0m \u001b[31m51.3 MB/s\u001b[0m eta \u001b[36m0:00:00\u001b[0m\n",
            "\u001b[?25h"
          ]
        }
      ]
    },
    {
      "cell_type": "markdown",
      "source": [
        "## database의 migration 생성 = session을 받기 위해"
      ],
      "metadata": {
        "id": "bX6IBlwVFlSV"
      }
    },
    {
      "cell_type": "code",
      "source": [
        "!python manage.py makemigrations\n",
        "!python manage.py migrate"
      ],
      "metadata": {
        "colab": {
          "base_uri": "https://localhost:8080/"
        },
        "id": "EXsT_ZLXA5dC",
        "outputId": "f88fdfbd-7efa-44b8-b31e-b83113903dcf"
      },
      "execution_count": 8,
      "outputs": [
        {
          "output_type": "stream",
          "name": "stdout",
          "text": [
            "2024-06-19 20:05:47.829968: E external/local_xla/xla/stream_executor/cuda/cuda_dnn.cc:9261] Unable to register cuDNN factory: Attempting to register factory for plugin cuDNN when one has already been registered\n",
            "2024-06-19 20:05:47.830011: E external/local_xla/xla/stream_executor/cuda/cuda_fft.cc:607] Unable to register cuFFT factory: Attempting to register factory for plugin cuFFT when one has already been registered\n",
            "2024-06-19 20:05:47.831590: E external/local_xla/xla/stream_executor/cuda/cuda_blas.cc:1515] Unable to register cuBLAS factory: Attempting to register factory for plugin cuBLAS when one has already been registered\n",
            "2024-06-19 20:05:47.841020: I tensorflow/core/platform/cpu_feature_guard.cc:182] This TensorFlow binary is optimized to use available CPU instructions in performance-critical operations.\n",
            "To enable the following instructions: AVX2 FMA, in other operations, rebuild TensorFlow with the appropriate compiler flags.\n",
            "2024-06-19 20:05:49.308142: W tensorflow/compiler/tf2tensorrt/utils/py_utils.cc:38] TF-TRT Warning: Could not find TensorRT\n",
            "modules.json: 100% 229/229 [00:00<00:00, 1.31MB/s]\n",
            "config_sentence_transformers.json: 100% 123/123 [00:00<00:00, 719kB/s]\n",
            "README.md: 100% 4.86k/4.86k [00:00<00:00, 19.4MB/s]\n",
            "sentence_bert_config.json: 100% 53.0/53.0 [00:00<00:00, 294kB/s]\n",
            "/usr/local/lib/python3.10/dist-packages/huggingface_hub/file_download.py:1132: FutureWarning: `resume_download` is deprecated and will be removed in version 1.0.0. Downloads always resume when possible. If you want to force a new download, use `force_download=True`.\n",
            "  warnings.warn(\n",
            "config.json: 100% 744/744 [00:00<00:00, 3.45MB/s]\n",
            "pytorch_model.bin: 100% 443M/443M [00:01<00:00, 255MB/s]\n",
            "tokenizer_config.json: 100% 585/585 [00:00<00:00, 3.19MB/s]\n",
            "vocab.txt: 100% 248k/248k [00:00<00:00, 3.97MB/s]\n",
            "tokenizer.json: 100% 495k/495k [00:00<00:00, 34.6MB/s]\n",
            "special_tokens_map.json: 100% 156/156 [00:00<00:00, 736kB/s]\n",
            "1_Pooling/config.json: 100% 190/190 [00:00<00:00, 882kB/s]\n",
            "No changes detected\n",
            "2024-06-19 20:08:12.223536: E external/local_xla/xla/stream_executor/cuda/cuda_dnn.cc:9261] Unable to register cuDNN factory: Attempting to register factory for plugin cuDNN when one has already been registered\n",
            "2024-06-19 20:08:12.223592: E external/local_xla/xla/stream_executor/cuda/cuda_fft.cc:607] Unable to register cuFFT factory: Attempting to register factory for plugin cuFFT when one has already been registered\n",
            "2024-06-19 20:08:12.226825: E external/local_xla/xla/stream_executor/cuda/cuda_blas.cc:1515] Unable to register cuBLAS factory: Attempting to register factory for plugin cuBLAS when one has already been registered\n",
            "2024-06-19 20:08:12.242018: I tensorflow/core/platform/cpu_feature_guard.cc:182] This TensorFlow binary is optimized to use available CPU instructions in performance-critical operations.\n",
            "To enable the following instructions: AVX2 FMA, in other operations, rebuild TensorFlow with the appropriate compiler flags.\n",
            "2024-06-19 20:08:13.933107: W tensorflow/compiler/tf2tensorrt/utils/py_utils.cc:38] TF-TRT Warning: Could not find TensorRT\n",
            "/usr/local/lib/python3.10/dist-packages/huggingface_hub/file_download.py:1132: FutureWarning: `resume_download` is deprecated and will be removed in version 1.0.0. Downloads always resume when possible. If you want to force a new download, use `force_download=True`.\n",
            "  warnings.warn(\n",
            "\u001b[36;1mOperations to perform:\u001b[0m\n",
            "\u001b[1m  Apply all migrations: \u001b[0madmin, auth, contenttypes, sessions\n",
            "\u001b[36;1mRunning migrations:\u001b[0m\n",
            "  No migrations to apply.\n"
          ]
        }
      ]
    },
    {
      "cell_type": "code",
      "source": [
        "!python manage.py showmigrations"
      ],
      "metadata": {
        "colab": {
          "base_uri": "https://localhost:8080/"
        },
        "id": "0cRPpgd7BGDm",
        "outputId": "bafa4dc9-a55d-4070-a7ff-ebc7006bca2e"
      },
      "execution_count": 9,
      "outputs": [
        {
          "output_type": "stream",
          "name": "stdout",
          "text": [
            "2024-06-19 20:11:52.438385: E external/local_xla/xla/stream_executor/cuda/cuda_dnn.cc:9261] Unable to register cuDNN factory: Attempting to register factory for plugin cuDNN when one has already been registered\n",
            "2024-06-19 20:11:52.438475: E external/local_xla/xla/stream_executor/cuda/cuda_fft.cc:607] Unable to register cuFFT factory: Attempting to register factory for plugin cuFFT when one has already been registered\n",
            "2024-06-19 20:11:52.440655: E external/local_xla/xla/stream_executor/cuda/cuda_blas.cc:1515] Unable to register cuBLAS factory: Attempting to register factory for plugin cuBLAS when one has already been registered\n",
            "2024-06-19 20:11:52.451390: I tensorflow/core/platform/cpu_feature_guard.cc:182] This TensorFlow binary is optimized to use available CPU instructions in performance-critical operations.\n",
            "To enable the following instructions: AVX2 FMA, in other operations, rebuild TensorFlow with the appropriate compiler flags.\n",
            "2024-06-19 20:11:54.058607: W tensorflow/compiler/tf2tensorrt/utils/py_utils.cc:38] TF-TRT Warning: Could not find TensorRT\n",
            "/usr/local/lib/python3.10/dist-packages/huggingface_hub/file_download.py:1132: FutureWarning: `resume_download` is deprecated and will be removed in version 1.0.0. Downloads always resume when possible. If you want to force a new download, use `force_download=True`.\n",
            "  warnings.warn(\n",
            "\u001b[1madmin\n",
            "\u001b[0m [X] 0001_initial\n",
            " [X] 0002_logentry_remove_auto_add\n",
            " [X] 0003_logentry_add_action_flag_choices\n",
            "\u001b[1mauth\n",
            "\u001b[0m [X] 0001_initial\n",
            " [X] 0002_alter_permission_name_max_length\n",
            " [X] 0003_alter_user_email_max_length\n",
            " [X] 0004_alter_user_username_opts\n",
            " [X] 0005_alter_user_last_login_null\n",
            " [X] 0006_require_contenttypes_0002\n",
            " [X] 0007_alter_validators_add_error_messages\n",
            " [X] 0008_alter_user_username_max_length\n",
            " [X] 0009_alter_user_last_name_max_length\n",
            " [X] 0010_alter_group_name_max_length\n",
            " [X] 0011_update_proxy_permissions\n",
            " [X] 0012_alter_user_first_name_max_length\n",
            "\u001b[1mcontenttypes\n",
            "\u001b[0m [X] 0001_initial\n",
            " [X] 0002_remove_content_type_name\n",
            "\u001b[1msessions\n",
            "\u001b[0m [X] 0001_initial\n"
          ]
        }
      ]
    }
  ]
}