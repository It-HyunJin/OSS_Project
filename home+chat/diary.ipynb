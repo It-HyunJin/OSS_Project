{
  "nbformat": 4,
  "nbformat_minor": 0,
  "metadata": {
    "colab": {
      "provenance": [],
      "authorship_tag": "ABX9TyOMIaIG7WIPa2f3Af3kCoye"
    },
    "kernelspec": {
      "name": "python3",
      "display_name": "Python 3"
    },
    "language_info": {
      "name": "python"
    }
  },
  "cells": [
    {
      "cell_type": "code",
      "execution_count": 1,
      "metadata": {
        "colab": {
          "base_uri": "https://localhost:8080/"
        },
        "id": "VsSQMQUjSlQb",
        "outputId": "0cfb53b7-b719-4ff4-e3d3-60897dfb6252"
      },
      "outputs": [
        {
          "output_type": "stream",
          "name": "stdout",
          "text": [
            "/content\n"
          ]
        }
      ],
      "source": [
        "import os\n",
        "%cd /content"
      ]
    },
    {
      "cell_type": "code",
      "source": [
        "!pip install django"
      ],
      "metadata": {
        "colab": {
          "base_uri": "https://localhost:8080/"
        },
        "id": "j6Rza1jRV96t",
        "outputId": "c635c460-4662-4a86-cd54-420bed84e6cb"
      },
      "execution_count": 3,
      "outputs": [
        {
          "output_type": "stream",
          "name": "stdout",
          "text": [
            "Collecting django\n",
            "  Downloading Django-5.0.6-py3-none-any.whl (8.2 MB)\n",
            "\u001b[2K     \u001b[90m━━━━━━━━━━━━━━━━━━━━━━━━━━━━━━━━━━━━━━━━\u001b[0m \u001b[32m8.2/8.2 MB\u001b[0m \u001b[31m10.9 MB/s\u001b[0m eta \u001b[36m0:00:00\u001b[0m\n",
            "\u001b[?25hCollecting asgiref<4,>=3.7.0 (from django)\n",
            "  Downloading asgiref-3.8.1-py3-none-any.whl (23 kB)\n",
            "Requirement already satisfied: sqlparse>=0.3.1 in /usr/local/lib/python3.10/dist-packages (from django) (0.5.0)\n",
            "Requirement already satisfied: typing-extensions>=4 in /usr/local/lib/python3.10/dist-packages (from asgiref<4,>=3.7.0->django) (4.12.2)\n",
            "Installing collected packages: asgiref, django\n",
            "Successfully installed asgiref-3.8.1 django-5.0.6\n"
          ]
        }
      ]
    },
    {
      "cell_type": "code",
      "source": [
        "!django-admin startproject diary_project"
      ],
      "metadata": {
        "id": "H67hToS4WDnF"
      },
      "execution_count": 4,
      "outputs": []
    },
    {
      "cell_type": "code",
      "source": [
        "%cd diary_project"
      ],
      "metadata": {
        "colab": {
          "base_uri": "https://localhost:8080/"
        },
        "id": "zoqzeyRMWM3u",
        "outputId": "1b67c9c0-9f35-4b1f-8e4e-ecca05221f65"
      },
      "execution_count": 5,
      "outputs": [
        {
          "output_type": "stream",
          "name": "stdout",
          "text": [
            "/content/diary_project\n"
          ]
        }
      ]
    },
    {
      "cell_type": "code",
      "source": [
        "from google.colab.output import eval_js\n",
        "print(eval_js(\"google.colab.kernel.proxyPort(8000)\"))"
      ],
      "metadata": {
        "colab": {
          "base_uri": "https://localhost:8080/",
          "height": 35
        },
        "id": "lXWMIRofWPcK",
        "outputId": "1269e9fb-9736-4c40-dbfc-9cfe9c07ab9b"
      },
      "execution_count": 6,
      "outputs": [
        {
          "output_type": "stream",
          "name": "stdout",
          "text": [
            "https://zx3ab05drh-496ff2e9c6d22116-8000-colab.googleusercontent.com/\n"
          ]
        }
      ]
    },
    {
      "cell_type": "code",
      "source": [
        "!python manage.py runserver 8000"
      ],
      "metadata": {
        "colab": {
          "base_uri": "https://localhost:8080/"
        },
        "id": "-2P_foNLWad4",
        "outputId": "c49343f3-9be8-4d6b-e72b-e3db525493d4"
      },
      "execution_count": 29,
      "outputs": [
        {
          "output_type": "stream",
          "name": "stdout",
          "text": [
            "2024-06-19 16:40:06.171396: E external/local_xla/xla/stream_executor/cuda/cuda_dnn.cc:9261] Unable to register cuDNN factory: Attempting to register factory for plugin cuDNN when one has already been registered\n",
            "2024-06-19 16:40:06.171438: E external/local_xla/xla/stream_executor/cuda/cuda_fft.cc:607] Unable to register cuFFT factory: Attempting to register factory for plugin cuFFT when one has already been registered\n",
            "2024-06-19 16:40:06.173743: E external/local_xla/xla/stream_executor/cuda/cuda_blas.cc:1515] Unable to register cuBLAS factory: Attempting to register factory for plugin cuBLAS when one has already been registered\n",
            "2024-06-19 16:40:06.186140: I tensorflow/core/platform/cpu_feature_guard.cc:182] This TensorFlow binary is optimized to use available CPU instructions in performance-critical operations.\n",
            "To enable the following instructions: AVX2 FMA, in other operations, rebuild TensorFlow with the appropriate compiler flags.\n",
            "2024-06-19 16:40:07.976723: W tensorflow/compiler/tf2tensorrt/utils/py_utils.cc:38] TF-TRT Warning: Could not find TensorRT\n",
            "/usr/local/lib/python3.10/dist-packages/huggingface_hub/file_download.py:1132: FutureWarning: `resume_download` is deprecated and will be removed in version 1.0.0. Downloads always resume when possible. If you want to force a new download, use `force_download=True`.\n",
            "  warnings.warn(\n",
            "2024-06-19 16:42:52.438614: E external/local_xla/xla/stream_executor/cuda/cuda_dnn.cc:9261] Unable to register cuDNN factory: Attempting to register factory for plugin cuDNN when one has already been registered\n",
            "2024-06-19 16:42:52.438670: E external/local_xla/xla/stream_executor/cuda/cuda_fft.cc:607] Unable to register cuFFT factory: Attempting to register factory for plugin cuFFT when one has already been registered\n",
            "2024-06-19 16:42:52.441378: E external/local_xla/xla/stream_executor/cuda/cuda_blas.cc:1515] Unable to register cuBLAS factory: Attempting to register factory for plugin cuBLAS when one has already been registered\n",
            "2024-06-19 16:42:54.987034: W tensorflow/compiler/tf2tensorrt/utils/py_utils.cc:38] TF-TRT Warning: Could not find TensorRT\n",
            "/usr/local/lib/python3.10/dist-packages/huggingface_hub/file_download.py:1132: FutureWarning: `resume_download` is deprecated and will be removed in version 1.0.0. Downloads always resume when possible. If you want to force a new download, use `force_download=True`.\n",
            "  warnings.warn(\n",
            "Watching for file changes with StatReloader\n",
            "Performing system checks...\n",
            "\n",
            "System check identified no issues (0 silenced).\n",
            "June 19, 2024 - 16:45:30\n",
            "Django version 5.0.6, using settings 'diary_project.settings'\n",
            "Starting development server at http://127.0.0.1:8000/\n",
            "Quit the server with CONTROL-C.\n",
            "\n",
            "[19/Jun/2024 16:45:45] \u001b[m\"GET / HTTP/1.1\" 200 1404\u001b[0m\n",
            "Not Found: /favicon.ico\n",
            "[19/Jun/2024 16:45:46] \u001b[33m\"GET /favicon.ico HTTP/1.1\" 404 2809\u001b[0m\n",
            "[19/Jun/2024 16:45:46] \u001b[m\"GET /chatbot/ HTTP/1.1\" 200 4141\u001b[0m\n",
            "Not Found: /favicon.ico\n",
            "[19/Jun/2024 16:45:47] \u001b[33m\"GET /favicon.ico HTTP/1.1\" 404 2809\u001b[0m\n",
            "[19/Jun/2024 16:45:50] \u001b[m\"POST /chat-response/ HTTP/1.1\" 200 357\u001b[0m\n",
            "[19/Jun/2024 16:46:46] \u001b[m\"GET /chatbot/ HTTP/1.1\" 200 4132\u001b[0m\n",
            "Not Found: /favicon.ico\n",
            "[19/Jun/2024 16:46:47] \u001b[33m\"GET /favicon.ico HTTP/1.1\" 404 2809\u001b[0m\n",
            "[19/Jun/2024 16:46:52] \u001b[m\"POST /chat-response/ HTTP/1.1\" 200 285\u001b[0m\n",
            "[19/Jun/2024 16:46:57] \u001b[m\"POST /chat-response/ HTTP/1.1\" 200 271\u001b[0m\n",
            "[19/Jun/2024 16:46:58] \u001b[m\"POST /chat-response/ HTTP/1.1\" 200 284\u001b[0m\n",
            "[19/Jun/2024 16:47:24] \u001b[m\"GET /chatbot/ HTTP/1.1\" 200 4138\u001b[0m\n",
            "Not Found: /favicon.ico\n",
            "[19/Jun/2024 16:47:25] \u001b[33m\"GET /favicon.ico HTTP/1.1\" 404 2809\u001b[0m\n",
            "[19/Jun/2024 16:47:29] \u001b[m\"POST /chat-response/ HTTP/1.1\" 200 545\u001b[0m\n",
            "[19/Jun/2024 16:47:30] \u001b[m\"POST /chat-response/ HTTP/1.1\" 200 357\u001b[0m\n",
            "[19/Jun/2024 16:47:37] \u001b[m\"POST /chat-response/ HTTP/1.1\" 200 532\u001b[0m\n",
            "[19/Jun/2024 16:47:46] \u001b[m\"POST /chat-response/ HTTP/1.1\" 200 415\u001b[0m\n",
            "[19/Jun/2024 16:47:51] \u001b[m\"POST /chat-response/ HTTP/1.1\" 200 432\u001b[0m\n",
            "[19/Jun/2024 16:48:01] \u001b[m\"POST /chat-response/ HTTP/1.1\" 200 365\u001b[0m\n",
            "[19/Jun/2024 16:49:35] \u001b[m\"GET /chatbot/ HTTP/1.1\" 200 4118\u001b[0m\n",
            "Not Found: /favicon.ico\n",
            "[19/Jun/2024 16:49:35] \u001b[33m\"GET /favicon.ico HTTP/1.1\" 404 2809\u001b[0m\n",
            "[19/Jun/2024 16:49:39] \u001b[m\"POST /chat-response/ HTTP/1.1\" 200 357\u001b[0m\n",
            "[19/Jun/2024 16:49:42] \u001b[m\"POST /chat-response/ HTTP/1.1\" 200 357\u001b[0m\n",
            "[19/Jun/2024 16:49:51] \u001b[m\"GET /chatbot/ HTTP/1.1\" 200 4117\u001b[0m\n",
            "Not Found: /favicon.ico\n",
            "[19/Jun/2024 16:49:51] \u001b[33m\"GET /favicon.ico HTTP/1.1\" 404 2809\u001b[0m\n",
            "[19/Jun/2024 16:49:59] \u001b[m\"GET /chatbot/ HTTP/1.1\" 200 4117\u001b[0m\n",
            "Not Found: /favicon.ico\n",
            "[19/Jun/2024 16:49:59] \u001b[33m\"GET /favicon.ico HTTP/1.1\" 404 2809\u001b[0m\n",
            "[19/Jun/2024 16:50:14] \u001b[m\"GET /diary/ HTTP/1.1\" 200 1455\u001b[0m\n",
            "Not Found: /diary/images/castle.jpg\n",
            "[19/Jun/2024 16:50:14] \u001b[33m\"GET /diary/images/castle.jpg HTTP/1.1\" 404 2845\u001b[0m\n",
            "Not Found: /favicon.ico\n",
            "[19/Jun/2024 16:50:14] \u001b[33m\"GET /favicon.ico HTTP/1.1\" 404 2809\u001b[0m\n",
            "[19/Jun/2024 16:50:27] \u001b[m\"GET / HTTP/1.1\" 200 1404\u001b[0m\n",
            "Not Found: /favicon.ico\n",
            "[19/Jun/2024 16:50:27] \u001b[33m\"GET /favicon.ico HTTP/1.1\" 404 2809\u001b[0m\n",
            "[19/Jun/2024 16:50:30] \u001b[m\"GET /diary/ HTTP/1.1\" 200 1455\u001b[0m\n",
            "Not Found: /diary/images/castle.jpg\n",
            "[19/Jun/2024 16:50:30] \u001b[33m\"GET /diary/images/castle.jpg HTTP/1.1\" 404 2845\u001b[0m\n",
            "Not Found: /favicon.ico\n",
            "[19/Jun/2024 16:50:30] \u001b[33m\"GET /favicon.ico HTTP/1.1\" 404 2809\u001b[0m\n"
          ]
        }
      ]
    },
    {
      "cell_type": "code",
      "source": [
        "!python manage.py startapp diary"
      ],
      "metadata": {
        "id": "PgTxd-K2We9W"
      },
      "execution_count": 8,
      "outputs": []
    },
    {
      "cell_type": "code",
      "source": [
        "!mkdir templates"
      ],
      "metadata": {
        "id": "OaXo5N8YWknd"
      },
      "execution_count": 9,
      "outputs": []
    },
    {
      "cell_type": "code",
      "source": [
        "!pip install -q sentence-transformers"
      ],
      "metadata": {
        "colab": {
          "base_uri": "https://localhost:8080/"
        },
        "id": "M-2iGHrUWqJQ",
        "outputId": "b79782b8-2973-4305-c15b-37f8923db950"
      },
      "execution_count": 23,
      "outputs": [
        {
          "output_type": "stream",
          "name": "stdout",
          "text": [
            "\u001b[2K     \u001b[90m━━━━━━━━━━━━━━━━━━━━━━━━━━━━━━━━━━━━━━━━\u001b[0m \u001b[32m227.1/227.1 kB\u001b[0m \u001b[31m2.0 MB/s\u001b[0m eta \u001b[36m0:00:00\u001b[0m\n",
            "\u001b[2K     \u001b[90m━━━━━━━━━━━━━━━━━━━━━━━━━━━━━━━━━━━━━━━━\u001b[0m \u001b[32m21.3/21.3 MB\u001b[0m \u001b[31m49.9 MB/s\u001b[0m eta \u001b[36m0:00:00\u001b[0m\n",
            "\u001b[?25h"
          ]
        }
      ]
    },
    {
      "cell_type": "code",
      "source": [
        "!python manage.py makemigrations\n",
        "!python manage.py migrate"
      ],
      "metadata": {
        "id": "xCPFRuuaWs8o",
        "colab": {
          "base_uri": "https://localhost:8080/"
        },
        "outputId": "33e5d602-40eb-4346-b616-d3c45838223f"
      },
      "execution_count": 26,
      "outputs": [
        {
          "output_type": "stream",
          "name": "stdout",
          "text": [
            "2024-06-19 16:04:33.215379: E external/local_xla/xla/stream_executor/cuda/cuda_dnn.cc:9261] Unable to register cuDNN factory: Attempting to register factory for plugin cuDNN when one has already been registered\n",
            "2024-06-19 16:04:33.215424: E external/local_xla/xla/stream_executor/cuda/cuda_fft.cc:607] Unable to register cuFFT factory: Attempting to register factory for plugin cuFFT when one has already been registered\n",
            "2024-06-19 16:04:33.217168: E external/local_xla/xla/stream_executor/cuda/cuda_blas.cc:1515] Unable to register cuBLAS factory: Attempting to register factory for plugin cuBLAS when one has already been registered\n",
            "2024-06-19 16:04:33.226806: I tensorflow/core/platform/cpu_feature_guard.cc:182] This TensorFlow binary is optimized to use available CPU instructions in performance-critical operations.\n",
            "To enable the following instructions: AVX2 FMA, in other operations, rebuild TensorFlow with the appropriate compiler flags.\n",
            "2024-06-19 16:04:34.931148: W tensorflow/compiler/tf2tensorrt/utils/py_utils.cc:38] TF-TRT Warning: Could not find TensorRT\n",
            "/usr/local/lib/python3.10/dist-packages/huggingface_hub/file_download.py:1132: FutureWarning: `resume_download` is deprecated and will be removed in version 1.0.0. Downloads always resume when possible. If you want to force a new download, use `force_download=True`.\n",
            "  warnings.warn(\n",
            "No changes detected\n",
            "2024-06-19 16:07:19.035745: E external/local_xla/xla/stream_executor/cuda/cuda_dnn.cc:9261] Unable to register cuDNN factory: Attempting to register factory for plugin cuDNN when one has already been registered\n",
            "2024-06-19 16:07:19.035787: E external/local_xla/xla/stream_executor/cuda/cuda_fft.cc:607] Unable to register cuFFT factory: Attempting to register factory for plugin cuFFT when one has already been registered\n",
            "2024-06-19 16:07:19.037958: E external/local_xla/xla/stream_executor/cuda/cuda_blas.cc:1515] Unable to register cuBLAS factory: Attempting to register factory for plugin cuBLAS when one has already been registered\n",
            "2024-06-19 16:07:19.050698: I tensorflow/core/platform/cpu_feature_guard.cc:182] This TensorFlow binary is optimized to use available CPU instructions in performance-critical operations.\n",
            "To enable the following instructions: AVX2 FMA, in other operations, rebuild TensorFlow with the appropriate compiler flags.\n",
            "2024-06-19 16:07:20.731028: W tensorflow/compiler/tf2tensorrt/utils/py_utils.cc:38] TF-TRT Warning: Could not find TensorRT\n",
            "/usr/local/lib/python3.10/dist-packages/huggingface_hub/file_download.py:1132: FutureWarning: `resume_download` is deprecated and will be removed in version 1.0.0. Downloads always resume when possible. If you want to force a new download, use `force_download=True`.\n",
            "  warnings.warn(\n",
            "\u001b[36;1mOperations to perform:\u001b[0m\n",
            "\u001b[1m  Apply all migrations: \u001b[0madmin, auth, contenttypes, sessions\n",
            "\u001b[36;1mRunning migrations:\u001b[0m\n",
            "  Applying contenttypes.0001_initial...\u001b[32;1m OK\u001b[0m\n",
            "  Applying auth.0001_initial...\u001b[32;1m OK\u001b[0m\n",
            "  Applying admin.0001_initial...\u001b[32;1m OK\u001b[0m\n",
            "  Applying admin.0002_logentry_remove_auto_add...\u001b[32;1m OK\u001b[0m\n",
            "  Applying admin.0003_logentry_add_action_flag_choices...\u001b[32;1m OK\u001b[0m\n",
            "  Applying contenttypes.0002_remove_content_type_name...\u001b[32;1m OK\u001b[0m\n",
            "  Applying auth.0002_alter_permission_name_max_length...\u001b[32;1m OK\u001b[0m\n",
            "  Applying auth.0003_alter_user_email_max_length...\u001b[32;1m OK\u001b[0m\n",
            "  Applying auth.0004_alter_user_username_opts...\u001b[32;1m OK\u001b[0m\n",
            "  Applying auth.0005_alter_user_last_login_null...\u001b[32;1m OK\u001b[0m\n",
            "  Applying auth.0006_require_contenttypes_0002...\u001b[32;1m OK\u001b[0m\n",
            "  Applying auth.0007_alter_validators_add_error_messages...\u001b[32;1m OK\u001b[0m\n",
            "  Applying auth.0008_alter_user_username_max_length...\u001b[32;1m OK\u001b[0m\n",
            "  Applying auth.0009_alter_user_last_name_max_length...\u001b[32;1m OK\u001b[0m\n",
            "  Applying auth.0010_alter_group_name_max_length...\u001b[32;1m OK\u001b[0m\n",
            "  Applying auth.0011_update_proxy_permissions...\u001b[32;1m OK\u001b[0m\n",
            "  Applying auth.0012_alter_user_first_name_max_length...\u001b[32;1m OK\u001b[0m\n",
            "  Applying sessions.0001_initial...\u001b[32;1m OK\u001b[0m\n"
          ]
        }
      ]
    },
    {
      "cell_type": "code",
      "source": [
        "!python manage.py showmigrations"
      ],
      "metadata": {
        "colab": {
          "base_uri": "https://localhost:8080/"
        },
        "id": "7Gvgdv0UQeoK",
        "outputId": "43c9f03a-b913-4596-d28f-83493b1cf5ff"
      },
      "execution_count": 27,
      "outputs": [
        {
          "output_type": "stream",
          "name": "stdout",
          "text": [
            "2024-06-19 16:10:06.085384: E external/local_xla/xla/stream_executor/cuda/cuda_dnn.cc:9261] Unable to register cuDNN factory: Attempting to register factory for plugin cuDNN when one has already been registered\n",
            "2024-06-19 16:10:06.085428: E external/local_xla/xla/stream_executor/cuda/cuda_fft.cc:607] Unable to register cuFFT factory: Attempting to register factory for plugin cuFFT when one has already been registered\n",
            "2024-06-19 16:10:06.087062: E external/local_xla/xla/stream_executor/cuda/cuda_blas.cc:1515] Unable to register cuBLAS factory: Attempting to register factory for plugin cuBLAS when one has already been registered\n",
            "2024-06-19 16:10:06.096402: I tensorflow/core/platform/cpu_feature_guard.cc:182] This TensorFlow binary is optimized to use available CPU instructions in performance-critical operations.\n",
            "To enable the following instructions: AVX2 FMA, in other operations, rebuild TensorFlow with the appropriate compiler flags.\n",
            "2024-06-19 16:10:07.906542: W tensorflow/compiler/tf2tensorrt/utils/py_utils.cc:38] TF-TRT Warning: Could not find TensorRT\n",
            "/usr/local/lib/python3.10/dist-packages/huggingface_hub/file_download.py:1132: FutureWarning: `resume_download` is deprecated and will be removed in version 1.0.0. Downloads always resume when possible. If you want to force a new download, use `force_download=True`.\n",
            "  warnings.warn(\n",
            "\u001b[1madmin\n",
            "\u001b[0m [X] 0001_initial\n",
            " [X] 0002_logentry_remove_auto_add\n",
            " [X] 0003_logentry_add_action_flag_choices\n",
            "\u001b[1mauth\n",
            "\u001b[0m [X] 0001_initial\n",
            " [X] 0002_alter_permission_name_max_length\n",
            " [X] 0003_alter_user_email_max_length\n",
            " [X] 0004_alter_user_username_opts\n",
            " [X] 0005_alter_user_last_login_null\n",
            " [X] 0006_require_contenttypes_0002\n",
            " [X] 0007_alter_validators_add_error_messages\n",
            " [X] 0008_alter_user_username_max_length\n",
            " [X] 0009_alter_user_last_name_max_length\n",
            " [X] 0010_alter_group_name_max_length\n",
            " [X] 0011_update_proxy_permissions\n",
            " [X] 0012_alter_user_first_name_max_length\n",
            "\u001b[1mcontenttypes\n",
            "\u001b[0m [X] 0001_initial\n",
            " [X] 0002_remove_content_type_name\n",
            "\u001b[1mdiary\n",
            "\u001b[0m\u001b[31;1m (no migrations)\n",
            "\u001b[0m\u001b[1msessions\n",
            "\u001b[0m [X] 0001_initial\n"
          ]
        }
      ]
    }
  ]
}